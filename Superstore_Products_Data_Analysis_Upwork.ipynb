{
 "cells": [
  {
   "cell_type": "markdown",
   "metadata": {},
   "source": [
    "# FINAL PROJECT\n",
    "## SUPERSTORE PRODUCTS DATA ANALYSIS"
   ]
  },
  {
   "cell_type": "markdown",
   "metadata": {},
   "source": [
    "# <a id=\"index\">Table of Contents:</a>  \n",
    "\n",
    "1. [About Superstore data set](#about)<br>\n",
    "2. [Initial Research Question](#init_queststion)<br>\n",
    "3. [Data Pre-processing](#prep)<br>\n",
    "    3.1 [Convert Data Types](#convert_data_types)<br>\n",
    "    3.2 [Handle Missing Values](#handle_missing_values)<br>\n",
    "    3.3 [Check for Duplicates](#check_for_duplicates)<br>\n",
    "    3.4 [Outlier Detection](#outlier_detection)<br>\n",
    "    3.5 [Add derived columns](#add_derived_columns)<br> \n",
    "4. [Descriptive Analysis](#descritive_analysis)<br>\n",
    "    4.1 [Overall Sales and Profit Trends](#overall_sales_and_profit_trends)<br>\n",
    "    4.2 [Performance by Customers Segments](#performance_by_customers_segments)<br>\n",
    "5. [Products Profitability Analysis](#products_profitability_analysis)<br>\n",
    "    5.1 [Top 10 Most and Least Profitable Products](#top_10_most_and_least_profitable_products)<br>\n",
    "    5.2 [Profit vs. Sales Correlation](#profit_vs_sales_correlation)<br>\n",
    "6. [Impact of Discount Strategies](#impact_of_discount_strategies)<br>\n",
    "    6.1 [Regression Analysis](#regression_analysis)<br>\n",
    "    6.2 [Optimal Discount Range](#optimal_discount_range)<br>\n",
    "7. [Product Bundling Opportunities](#product_bundling_opportunities)<br>\n",
    "    7.1 [Analyze Orders Sales Data](#analyze_orders_sales_data)<br>\n",
    "    7.2 [Analysing bundling High-profit products](#analysing_bundling_high_profit_products)<br>\n",
    "8. [Summary Insights](#summary_insights)<br>\n",
    "    8.1 [Optimization Recommendations](#optimization_recommendations)<br>\n",
    "9. [A/B Testing](#a_b_testing)<br>\n",
    "    9.1 [Test 1. Discount Strategy Testing](#test_1_discount_strategy_testing)<br>\n",
    "    9.2 [Test 2. Product Bundling Strategies](#test_2_product_bundling_strategies)<br>\n",
    "    9.3 [Test simulation](#test_simulation)<br>\n",
    "    9.4 [Tests inistructions](#tests_inistructions)<br>"
   ]
  },
  {
   "cell_type": "markdown",
   "metadata": {},
   "source": [
    "# 1. <a id=\"about\">About Superstore dataset</a> <font size='3'>[[Table of contents🔝]](#index)]<font size>\n",
    "\n",
    "#### https://www.kaggle.com/datasets/aashwinkumar/superstore-sales-dataset\n",
    "\n",
    "The Superstore Sales dataset provides comprehensive sales data for multiple products sold by a retail superstore.\n",
    "   \n",
    "### Key Features\n",
    "- **Sales Data**<br> \n",
    "    Includes information on sales transactions, such as order date, order ID, quantity, and sales value.\n",
    "- **Product Information**<br>\n",
    "    Provides details about the products sold, including product category, subcategory, and product ID.\n",
    "- **Geographical Segmentation**<br>\n",
    "    Contains information on the geographical location of sales, including country, state, and city.\n",
    "- **Profit Analysis**<br> \n",
    "    Includes data on profits generated from sales transactions, enabling profitability analysis at various levels of granularity.\n",
    "- **Consumer Segmentation**<br>\n",
    "    Provides insights into consumer behavior and preferences through segmentation variables such as customer ID, segment, and region.\n",
    "\n",
    "### Column Details\n",
    "- **order_id:** Unique identifier for each order\n",
    "- **order_date:** Date of order placement\n",
    "- **ship_date:** Date of shipment\n",
    "- **ship_mode:** Mode of shipment\n",
    "- **customer_name:** Name of the customer\n",
    "- **segment:** Customer segment\n",
    "- **state:** State of the customer\n",
    "- **country:** Country of the customer\n",
    "- **market:** Market region\n",
    "- **region:** Specific region\n",
    "- **product_id:** Unique identifier for each product\n",
    "- **category:** Product category\n",
    "- **sub_category:** Product sub-category\n",
    "- **product_name:** Name of the product\n",
    "- **sales:** Sales amount\n",
    "- **quantity:** Quantity of products sold\n",
    "- **discount:** Discount applied to the sale\n",
    "- **profit:** Profit from the sale\n",
    "- **shipping_cost:** Cost of shipping\n",
    "- **order_priority:** Priority of the order\n",
    "- **year:** Year of the order   \n",
    "    "
   ]
  },
  {
   "cell_type": "markdown",
   "metadata": {},
   "source": [
    "# 2. <a id=\"init_queststion\">Initial Research Question</a> <font size='3'>[[Table of contents🔝]](#index)]<font size>\n",
    "### How can the company optimize its product portfolio by identifying high- and low-profit products, determining the impact of discount strategies on sales and margins, and uncovering potential opportunities for product bundling?\n"
   ]
  },
  {
   "cell_type": "markdown",
   "metadata": {},
   "source": [
    "# 3. <a id=\"prep\">Data Pre-processing</a> <font size='3'>[[Table of contents🔝]](#index)]<font size>"
   ]
  },
  {
   "cell_type": "code",
   "execution_count": 1,
   "metadata": {
    "scrolled": true
   },
   "outputs": [
    {
     "data": {
      "text/html": [
       "<div>\n",
       "<style scoped>\n",
       "    .dataframe tbody tr th:only-of-type {\n",
       "        vertical-align: middle;\n",
       "    }\n",
       "\n",
       "    .dataframe tbody tr th {\n",
       "        vertical-align: top;\n",
       "    }\n",
       "\n",
       "    .dataframe thead th {\n",
       "        text-align: right;\n",
       "    }\n",
       "</style>\n",
       "<table border=\"1\" class=\"dataframe\">\n",
       "  <thead>\n",
       "    <tr style=\"text-align: right;\">\n",
       "      <th></th>\n",
       "      <th>order_id</th>\n",
       "      <th>order_date</th>\n",
       "      <th>ship_date</th>\n",
       "      <th>ship_mode</th>\n",
       "      <th>customer_name</th>\n",
       "      <th>segment</th>\n",
       "      <th>state</th>\n",
       "      <th>country</th>\n",
       "      <th>market</th>\n",
       "      <th>region</th>\n",
       "      <th>...</th>\n",
       "      <th>category</th>\n",
       "      <th>sub_category</th>\n",
       "      <th>product_name</th>\n",
       "      <th>sales</th>\n",
       "      <th>quantity</th>\n",
       "      <th>discount</th>\n",
       "      <th>profit</th>\n",
       "      <th>shipping_cost</th>\n",
       "      <th>order_priority</th>\n",
       "      <th>year</th>\n",
       "    </tr>\n",
       "  </thead>\n",
       "  <tbody>\n",
       "    <tr>\n",
       "      <th>0</th>\n",
       "      <td>AG-2011-2040</td>\n",
       "      <td>1/1/2011</td>\n",
       "      <td>6/1/2011</td>\n",
       "      <td>Standard Class</td>\n",
       "      <td>Toby Braunhardt</td>\n",
       "      <td>Consumer</td>\n",
       "      <td>Constantine</td>\n",
       "      <td>Algeria</td>\n",
       "      <td>Africa</td>\n",
       "      <td>Africa</td>\n",
       "      <td>...</td>\n",
       "      <td>Office Supplies</td>\n",
       "      <td>Storage</td>\n",
       "      <td>Tenex Lockers, Blue</td>\n",
       "      <td>408</td>\n",
       "      <td>2</td>\n",
       "      <td>0.0</td>\n",
       "      <td>106.140</td>\n",
       "      <td>35.46</td>\n",
       "      <td>Medium</td>\n",
       "      <td>2011</td>\n",
       "    </tr>\n",
       "    <tr>\n",
       "      <th>1</th>\n",
       "      <td>IN-2011-47883</td>\n",
       "      <td>1/1/2011</td>\n",
       "      <td>8/1/2011</td>\n",
       "      <td>Standard Class</td>\n",
       "      <td>Joseph Holt</td>\n",
       "      <td>Consumer</td>\n",
       "      <td>New South Wales</td>\n",
       "      <td>Australia</td>\n",
       "      <td>APAC</td>\n",
       "      <td>Oceania</td>\n",
       "      <td>...</td>\n",
       "      <td>Office Supplies</td>\n",
       "      <td>Supplies</td>\n",
       "      <td>Acme Trimmer, High Speed</td>\n",
       "      <td>120</td>\n",
       "      <td>3</td>\n",
       "      <td>0.1</td>\n",
       "      <td>36.036</td>\n",
       "      <td>9.72</td>\n",
       "      <td>Medium</td>\n",
       "      <td>2011</td>\n",
       "    </tr>\n",
       "    <tr>\n",
       "      <th>2</th>\n",
       "      <td>HU-2011-1220</td>\n",
       "      <td>1/1/2011</td>\n",
       "      <td>5/1/2011</td>\n",
       "      <td>Second Class</td>\n",
       "      <td>Annie Thurman</td>\n",
       "      <td>Consumer</td>\n",
       "      <td>Budapest</td>\n",
       "      <td>Hungary</td>\n",
       "      <td>EMEA</td>\n",
       "      <td>EMEA</td>\n",
       "      <td>...</td>\n",
       "      <td>Office Supplies</td>\n",
       "      <td>Storage</td>\n",
       "      <td>Tenex Box, Single Width</td>\n",
       "      <td>66</td>\n",
       "      <td>4</td>\n",
       "      <td>0.0</td>\n",
       "      <td>29.640</td>\n",
       "      <td>8.17</td>\n",
       "      <td>High</td>\n",
       "      <td>2011</td>\n",
       "    </tr>\n",
       "    <tr>\n",
       "      <th>3</th>\n",
       "      <td>IT-2011-3647632</td>\n",
       "      <td>1/1/2011</td>\n",
       "      <td>5/1/2011</td>\n",
       "      <td>Second Class</td>\n",
       "      <td>Eugene Moren</td>\n",
       "      <td>Home Office</td>\n",
       "      <td>Stockholm</td>\n",
       "      <td>Sweden</td>\n",
       "      <td>EU</td>\n",
       "      <td>North</td>\n",
       "      <td>...</td>\n",
       "      <td>Office Supplies</td>\n",
       "      <td>Paper</td>\n",
       "      <td>Enermax Note Cards, Premium</td>\n",
       "      <td>45</td>\n",
       "      <td>3</td>\n",
       "      <td>0.5</td>\n",
       "      <td>-26.055</td>\n",
       "      <td>4.82</td>\n",
       "      <td>High</td>\n",
       "      <td>2011</td>\n",
       "    </tr>\n",
       "    <tr>\n",
       "      <th>4</th>\n",
       "      <td>IN-2011-47883</td>\n",
       "      <td>1/1/2011</td>\n",
       "      <td>8/1/2011</td>\n",
       "      <td>Standard Class</td>\n",
       "      <td>Joseph Holt</td>\n",
       "      <td>Consumer</td>\n",
       "      <td>New South Wales</td>\n",
       "      <td>Australia</td>\n",
       "      <td>APAC</td>\n",
       "      <td>Oceania</td>\n",
       "      <td>...</td>\n",
       "      <td>Furniture</td>\n",
       "      <td>Furnishings</td>\n",
       "      <td>Eldon Light Bulb, Duo Pack</td>\n",
       "      <td>114</td>\n",
       "      <td>5</td>\n",
       "      <td>0.1</td>\n",
       "      <td>37.770</td>\n",
       "      <td>4.70</td>\n",
       "      <td>Medium</td>\n",
       "      <td>2011</td>\n",
       "    </tr>\n",
       "  </tbody>\n",
       "</table>\n",
       "<p>5 rows × 21 columns</p>\n",
       "</div>"
      ],
      "text/plain": [
       "          order_id order_date ship_date       ship_mode    customer_name  \\\n",
       "0     AG-2011-2040   1/1/2011  6/1/2011  Standard Class  Toby Braunhardt   \n",
       "1    IN-2011-47883   1/1/2011  8/1/2011  Standard Class      Joseph Holt   \n",
       "2     HU-2011-1220   1/1/2011  5/1/2011    Second Class    Annie Thurman   \n",
       "3  IT-2011-3647632   1/1/2011  5/1/2011    Second Class     Eugene Moren   \n",
       "4    IN-2011-47883   1/1/2011  8/1/2011  Standard Class      Joseph Holt   \n",
       "\n",
       "       segment            state    country  market   region  ...  \\\n",
       "0     Consumer      Constantine    Algeria  Africa   Africa  ...   \n",
       "1     Consumer  New South Wales  Australia    APAC  Oceania  ...   \n",
       "2     Consumer         Budapest    Hungary    EMEA     EMEA  ...   \n",
       "3  Home Office        Stockholm     Sweden      EU    North  ...   \n",
       "4     Consumer  New South Wales  Australia    APAC  Oceania  ...   \n",
       "\n",
       "          category sub_category                 product_name sales quantity  \\\n",
       "0  Office Supplies      Storage          Tenex Lockers, Blue   408        2   \n",
       "1  Office Supplies     Supplies     Acme Trimmer, High Speed   120        3   \n",
       "2  Office Supplies      Storage      Tenex Box, Single Width    66        4   \n",
       "3  Office Supplies        Paper  Enermax Note Cards, Premium    45        3   \n",
       "4        Furniture  Furnishings   Eldon Light Bulb, Duo Pack   114        5   \n",
       "\n",
       "   discount   profit  shipping_cost  order_priority  year  \n",
       "0       0.0  106.140          35.46          Medium  2011  \n",
       "1       0.1   36.036           9.72          Medium  2011  \n",
       "2       0.0   29.640           8.17            High  2011  \n",
       "3       0.5  -26.055           4.82            High  2011  \n",
       "4       0.1   37.770           4.70          Medium  2011  \n",
       "\n",
       "[5 rows x 21 columns]"
      ]
     },
     "execution_count": 1,
     "metadata": {},
     "output_type": "execute_result"
    }
   ],
   "source": [
    "# Importing Libraries\n",
    "\n",
    "# linear algebra\n",
    "import numpy as np \n",
    "\n",
    "# data processing, CSV file I/O (e.g. pd.read_csv)\n",
    "import pandas as pd \n",
    "\n",
    "# data visualization\n",
    "import matplotlib.pyplot as plt\n",
    "import seaborn as sns\n",
    "\n",
    "# Load the dataset\n",
    "file_path = 'SuperStoreOrders.csv'\n",
    "df = pd.read_csv(file_path)\n",
    "df.head()"
   ]
  },
  {
   "cell_type": "code",
   "execution_count": 2,
   "metadata": {},
   "outputs": [
    {
     "name": "stdout",
     "output_type": "stream",
     "text": [
      "Shape of this dataset is (51290, 21).\n",
      "==================================================\n",
      "<class 'pandas.core.frame.DataFrame'>\n",
      "RangeIndex: 51290 entries, 0 to 51289\n",
      "Data columns (total 21 columns):\n",
      " #   Column          Non-Null Count  Dtype  \n",
      "---  ------          --------------  -----  \n",
      " 0   order_id        51290 non-null  object \n",
      " 1   order_date      51290 non-null  object \n",
      " 2   ship_date       51290 non-null  object \n",
      " 3   ship_mode       51290 non-null  object \n",
      " 4   customer_name   51290 non-null  object \n",
      " 5   segment         51290 non-null  object \n",
      " 6   state           51290 non-null  object \n",
      " 7   country         51290 non-null  object \n",
      " 8   market          51290 non-null  object \n",
      " 9   region          51290 non-null  object \n",
      " 10  product_id      51290 non-null  object \n",
      " 11  category        51290 non-null  object \n",
      " 12  sub_category    51290 non-null  object \n",
      " 13  product_name    51290 non-null  object \n",
      " 14  sales           51290 non-null  object \n",
      " 15  quantity        51290 non-null  int64  \n",
      " 16  discount        51290 non-null  float64\n",
      " 17  profit          51290 non-null  float64\n",
      " 18  shipping_cost   51290 non-null  float64\n",
      " 19  order_priority  51290 non-null  object \n",
      " 20  year            51290 non-null  int64  \n",
      "dtypes: float64(3), int64(2), object(16)\n",
      "memory usage: 8.2+ MB\n",
      "None\n",
      "==================================================\n",
      "           quantity      discount        profit  shipping_cost          year\n",
      "count  51290.000000  51290.000000  51290.000000   51290.000000  51290.000000\n",
      "mean       3.476545      0.142908     28.641740      26.375915   2012.777208\n",
      "std        2.278766      0.212280    174.424113      57.296804      1.098931\n",
      "min        1.000000      0.000000  -6599.978000       0.000000   2011.000000\n",
      "25%        2.000000      0.000000      0.000000       2.610000   2012.000000\n",
      "50%        3.000000      0.000000      9.240000       7.790000   2013.000000\n",
      "75%        5.000000      0.200000     36.810000      24.450000   2014.000000\n",
      "max       14.000000      0.850000   8399.976000     933.570000   2014.000000\n",
      "==================================================\n",
      "Missing values in any of the columns this dataset are\n",
      "order_id          0\n",
      "order_date        0\n",
      "ship_date         0\n",
      "ship_mode         0\n",
      "customer_name     0\n",
      "segment           0\n",
      "state             0\n",
      "country           0\n",
      "market            0\n",
      "region            0\n",
      "product_id        0\n",
      "category          0\n",
      "sub_category      0\n",
      "product_name      0\n",
      "sales             0\n",
      "quantity          0\n",
      "discount          0\n",
      "profit            0\n",
      "shipping_cost     0\n",
      "order_priority    0\n",
      "year              0\n",
      "dtype: int64\n"
     ]
    }
   ],
   "source": [
    "# Defining custom function to display basic information about the dataset \n",
    "# including shape, datatypes, statistics, null values.\n",
    "def basic_info(df):\n",
    "    print(f'Shape of this dataset is {df.shape}.')\n",
    "    print('='*50)\n",
    "    print(df.info())\n",
    "    print(\"=\"*50)\n",
    "    print(df.describe())\n",
    "    print(\"=\"*50)\n",
    "    print(f'Missing values in any of the columns this dataset are\\n{df.isnull().sum(axis=0)}')\n",
    "    \n",
    "# Calling the custom function to display basic_info of dataset    \n",
    "basic_info(df)"
   ]
  },
  {
   "cell_type": "markdown",
   "metadata": {},
   "source": [
    "### Observations:\n",
    "- The shape of the dataframe is (51290, 21) i.e., 51290 records with 21 features\n",
    "- Columns where the datatype needs to be modified:\n",
    "    - order_date, ship_date (string to to datetime format)\n",
    "    - sales (string to numeric format)\n",
    "- The dataset contains the orders for 4 years (2011-2014)   \n",
    "- There are no columns with null (missing) values"
   ]
  },
  {
   "cell_type": "markdown",
   "metadata": {},
   "source": [
    " ## 3.1 <a id=\"convert_data_types\">Convert Data Types</a> <font size='3'>[[Table of contents🔝]](#index)]<font size> "
   ]
  },
  {
   "cell_type": "code",
   "execution_count": 3,
   "metadata": {},
   "outputs": [
    {
     "name": "stdout",
     "output_type": "stream",
     "text": [
      "<class 'pandas.core.frame.DataFrame'>\n",
      "RangeIndex: 51290 entries, 0 to 51289\n",
      "Data columns (total 21 columns):\n",
      " #   Column          Non-Null Count  Dtype         \n",
      "---  ------          --------------  -----         \n",
      " 0   order_id        51290 non-null  object        \n",
      " 1   order_date      51290 non-null  datetime64[ns]\n",
      " 2   ship_date       51290 non-null  datetime64[ns]\n",
      " 3   ship_mode       51290 non-null  object        \n",
      " 4   customer_name   51290 non-null  object        \n",
      " 5   segment         51290 non-null  object        \n",
      " 6   state           51290 non-null  object        \n",
      " 7   country         51290 non-null  object        \n",
      " 8   market          51290 non-null  object        \n",
      " 9   region          51290 non-null  object        \n",
      " 10  product_id      51290 non-null  object        \n",
      " 11  category        51290 non-null  object        \n",
      " 12  sub_category    51290 non-null  object        \n",
      " 13  product_name    51290 non-null  object        \n",
      " 14  sales           48660 non-null  float64       \n",
      " 15  quantity        51290 non-null  int64         \n",
      " 16  discount        51290 non-null  float64       \n",
      " 17  profit          51290 non-null  float64       \n",
      " 18  shipping_cost   51290 non-null  float64       \n",
      " 19  order_priority  51290 non-null  object        \n",
      " 20  year            51290 non-null  int64         \n",
      "dtypes: datetime64[ns](2), float64(4), int64(2), object(13)\n",
      "memory usage: 8.2+ MB\n"
     ]
    }
   ],
   "source": [
    "# Convert data types\n",
    "df['order_date'] = pd.to_datetime(df['order_date'], errors='coerce')\n",
    "df['ship_date'] = pd.to_datetime(df['ship_date'], errors='coerce')\n",
    "df['sales'] = pd.to_numeric(df['sales'], errors='coerce')\n",
    "df.info()"
   ]
  },
  {
   "cell_type": "markdown",
   "metadata": {},
   "source": [
    "### Observations:\n",
    "- Columns order_date, ship_date were converted to datetime format\n",
    "- Column sales was converted to numeric format"
   ]
  },
  {
   "cell_type": "markdown",
   "metadata": {},
   "source": [
    " ## 3.2 <a id=\"handle_missing_values\">Handle Missing Values</a> <font size='3'>[[Table of contents🔝]](#index)]<font size>"
   ]
  },
  {
   "cell_type": "code",
   "execution_count": 4,
   "metadata": {},
   "outputs": [
    {
     "data": {
      "text/plain": [
       "order_id             0\n",
       "order_date           0\n",
       "ship_date            0\n",
       "ship_mode            0\n",
       "customer_name        0\n",
       "segment              0\n",
       "state                0\n",
       "country              0\n",
       "market               0\n",
       "region               0\n",
       "product_id           0\n",
       "category             0\n",
       "sub_category         0\n",
       "product_name         0\n",
       "sales             2630\n",
       "quantity             0\n",
       "discount             0\n",
       "profit               0\n",
       "shipping_cost        0\n",
       "order_priority       0\n",
       "year                 0\n",
       "dtype: int64"
      ]
     },
     "execution_count": 4,
     "metadata": {},
     "output_type": "execute_result"
    }
   ],
   "source": [
    "# Handle missing values\n",
    "\n",
    "# Check for missing values\n",
    "missing_values = df.isnull().sum()\n",
    "missing_values"
   ]
  },
  {
   "cell_type": "code",
   "execution_count": 5,
   "metadata": {},
   "outputs": [
    {
     "data": {
      "text/plain": [
       "order_id          0\n",
       "order_date        0\n",
       "ship_date         0\n",
       "ship_mode         0\n",
       "customer_name     0\n",
       "segment           0\n",
       "state             0\n",
       "country           0\n",
       "market            0\n",
       "region            0\n",
       "product_id        0\n",
       "category          0\n",
       "sub_category      0\n",
       "product_name      0\n",
       "sales             0\n",
       "quantity          0\n",
       "discount          0\n",
       "profit            0\n",
       "shipping_cost     0\n",
       "order_priority    0\n",
       "year              0\n",
       "dtype: int64"
      ]
     },
     "execution_count": 5,
     "metadata": {},
     "output_type": "execute_result"
    }
   ],
   "source": [
    "# Fill or drop missing values\n",
    "\n",
    "# Drop rows with missing key data (sales)\n",
    "df.dropna(subset=['sales'], inplace=True)\n",
    "drop_missing_values = df.isnull().sum()\n",
    "drop_missing_values"
   ]
  },
  {
   "cell_type": "markdown",
   "metadata": {},
   "source": [
    "#### Observations:\n",
    "- There are 2630 rows with missing sales data that were dropped"
   ]
  },
  {
   "cell_type": "markdown",
   "metadata": {},
   "source": [
    " ## 3.3 <a id=\"check_for_duplicates\">Check for Duplicates</a> <font size='3'>[[Table of contents🔝]](#index)]<font size>"
   ]
  },
  {
   "cell_type": "code",
   "execution_count": 6,
   "metadata": {},
   "outputs": [],
   "source": [
    "# Check for duplicates\n",
    "duplicates = df.duplicated()\n",
    "df = df[~duplicates]"
   ]
  },
  {
   "cell_type": "code",
   "execution_count": 7,
   "metadata": {},
   "outputs": [
    {
     "data": {
      "text/plain": [
       "0"
      ]
     },
     "execution_count": 7,
     "metadata": {},
     "output_type": "execute_result"
    }
   ],
   "source": [
    "duplicates.sum()"
   ]
  },
  {
   "cell_type": "markdown",
   "metadata": {},
   "source": [
    "### Observations:\n",
    "- There are no duplicates in the dataset"
   ]
  },
  {
   "cell_type": "markdown",
   "metadata": {},
   "source": [
    " ## 3.4 <a id=\"outlier_detection\">Outlier Detection</a> <font size='3'>[[Table of contents🔝]](#index)]<font size>"
   ]
  },
  {
   "cell_type": "code",
   "execution_count": 8,
   "metadata": {
    "scrolled": false
   },
   "outputs": [
    {
     "data": {
      "image/png": "[encoded data removed]",
      "text/plain": [
       "<Figure size 720x432 with 2 Axes>"
      ]
     },
     "metadata": {
      "needs_background": "light"
     },
     "output_type": "display_data"
    }
   ],
   "source": [
    "# Outlier detection and treatment using IQR (Interquartile Range)\n",
    "\n",
    "# Visualize outliers for 'sales' before IQR\n",
    "plt.figure(figsize=(10, 6))\n",
    "plt.subplot(1, 2, 1)\n",
    "plt.boxplot(df['sales'], vert=False, patch_artist=True)\n",
    "plt.title('Before IQR - Sales')\n",
    "\n",
    "# Apply IQR to remove outliers\n",
    "Q1 = df['sales'].quantile(0.25)\n",
    "Q3 = df['sales'].quantile(0.75)\n",
    "IQR = Q3 - Q1\n",
    "lower_bound = Q1 - 1.5 * IQR\n",
    "upper_bound = Q3 + 1.5 * IQR\n",
    "df_cleaned = df[(df['sales'] >= lower_bound) & (df['sales'] <= upper_bound)]\n",
    "\n",
    "# Visualize outliers for 'sales' after IQR\n",
    "plt.subplot(1, 2, 2)\n",
    "plt.boxplot(df_cleaned['sales'], vert=False, patch_artist=True)\n",
    "plt.title('After IQR - Sales')\n",
    "\n",
    "plt.tight_layout()\n",
    "plt.show()"
   ]
  },
  {
   "cell_type": "markdown",
   "metadata": {},
   "source": [
    "### Observations:\n",
    "- **Before IQR - Sales:**<br>\n",
    "    Original dataset has a significant number of data points are classified as outliers (extreme sales values), which could distort statistical analyses.\n",
    "- **After IQR - Sales:**<br>\n",
    "    The dataset now contains only values within the IQR-defined range, the remaining data is more concentrated around the median suggesting that the IQR method successfully filtered out high outliers."
   ]
  },
  {
   "cell_type": "markdown",
   "metadata": {},
   "source": [
    "## 3.5 <a id=\"add_derived_columns\">Add derived columns</a> <font size='3'>[[Table of contents🔝]](#index)]<font size>"
   ]
  },
  {
   "cell_type": "code",
   "execution_count": 9,
   "metadata": {
    "scrolled": false
   },
   "outputs": [
    {
     "name": "stdout",
     "output_type": "stream",
     "text": [
      "Shape of this dataset is (44152, 22).\n",
      "==================================================\n",
      "<class 'pandas.core.frame.DataFrame'>\n",
      "Int64Index: 44152 entries, 0 to 51289\n",
      "Data columns (total 22 columns):\n",
      " #   Column          Non-Null Count  Dtype         \n",
      "---  ------          --------------  -----         \n",
      " 0   order_id        44152 non-null  object        \n",
      " 1   order_date      44152 non-null  datetime64[ns]\n",
      " 2   ship_date       44152 non-null  datetime64[ns]\n",
      " 3   ship_mode       44152 non-null  object        \n",
      " 4   customer_name   44152 non-null  object        \n",
      " 5   segment         44152 non-null  object        \n",
      " 6   state           44152 non-null  object        \n",
      " 7   country         44152 non-null  object        \n",
      " 8   market          44152 non-null  object        \n",
      " 9   region          44152 non-null  object        \n",
      " 10  product_id      44152 non-null  object        \n",
      " 11  category        44152 non-null  object        \n",
      " 12  sub_category    44152 non-null  object        \n",
      " 13  product_name    44152 non-null  object        \n",
      " 14  sales           44152 non-null  float64       \n",
      " 15  quantity        44152 non-null  int64         \n",
      " 16  discount        44152 non-null  float64       \n",
      " 17  profit          44152 non-null  float64       \n",
      " 18  shipping_cost   44152 non-null  float64       \n",
      " 19  order_priority  44152 non-null  object        \n",
      " 20  year            44152 non-null  int64         \n",
      " 21  profit_margin   44152 non-null  float64       \n",
      "dtypes: datetime64[ns](2), float64(5), int64(2), object(13)\n",
      "memory usage: 7.7+ MB\n",
      "None\n",
      "==================================================\n",
      "              sales      quantity      discount        profit  shipping_cost  \\\n",
      "count  44152.000000  44152.000000  44152.000000  44152.000000   44152.000000   \n",
      "mean     108.127378      3.231949      0.149305      8.635501      11.790616   \n",
      "std      110.502795      2.139310      0.219518     57.987613      16.095545   \n",
      "min        0.000000      1.000000      0.000000  -1218.384000       0.000000   \n",
      "25%       26.000000      2.000000      0.000000     -0.042000       2.190000   \n",
      "50%       63.000000      3.000000      0.000000      7.300400       5.880000   \n",
      "75%      153.250000      4.000000      0.200000     24.703530      14.910000   \n",
      "max      476.000000     14.000000      0.850000    230.850000     226.730000   \n",
      "\n",
      "               year  profit_margin  \n",
      "count  44152.000000   4.415200e+04  \n",
      "mean    2012.779602           -inf  \n",
      "std        1.097894            NaN  \n",
      "min     2011.000000           -inf  \n",
      "25%     2012.000000  -5.675847e-04  \n",
      "50%     2013.000000   1.693506e-01  \n",
      "75%     2014.000000   3.375262e-01  \n",
      "max     2014.000000   5.828000e-01  \n",
      "==================================================\n",
      "Missing values in any of the columns this dataset are\n",
      "order_id          0\n",
      "order_date        0\n",
      "ship_date         0\n",
      "ship_mode         0\n",
      "customer_name     0\n",
      "segment           0\n",
      "state             0\n",
      "country           0\n",
      "market            0\n",
      "region            0\n",
      "product_id        0\n",
      "category          0\n",
      "sub_category      0\n",
      "product_name      0\n",
      "sales             0\n",
      "quantity          0\n",
      "discount          0\n",
      "profit            0\n",
      "shipping_cost     0\n",
      "order_priority    0\n",
      "year              0\n",
      "profit_margin     0\n",
      "dtype: int64\n"
     ]
    }
   ],
   "source": [
    "# Add derived columns\n",
    "# Calculate profit margin\n",
    "df_cleaned = df_cleaned.copy()\n",
    "df_cleaned['profit_margin'] = df_cleaned['profit'] / df_cleaned['sales']\n",
    "\n",
    "# Calling the custom basic_info function to validate changes  \n",
    "basic_info(df_cleaned)"
   ]
  },
  {
   "cell_type": "markdown",
   "metadata": {},
   "source": [
    "### Effectiveness of Cleaning\n",
    "- **Outliers Removed:**<br>\n",
    "    Extreme outliers in key columns (e.g., sales, profit) were successfully removed, bringing their ranges closer to typical values.\n",
    "- **No Missing Data:**<br>\n",
    "    The dataset is complete and ready for analysis without interruptions due to null values.\n",
    "- **Valid Data Types:**<br>\n",
    "    All columns have appropriate data types, ensuring smooth computation and modeling.\n",
    "- **Potential Edge Cases:**<br>\n",
    "    While the dataset is clean, the presence of -inf in profit_margin points to specific edge cases requiring further attention."
   ]
  },
  {
   "cell_type": "code",
   "execution_count": 10,
   "metadata": {},
   "outputs": [
    {
     "name": "stdout",
     "output_type": "stream",
     "text": [
      "Shape of this dataset is (44151, 22).\n",
      "==================================================\n",
      "<class 'pandas.core.frame.DataFrame'>\n",
      "Int64Index: 44151 entries, 0 to 51289\n",
      "Data columns (total 22 columns):\n",
      " #   Column          Non-Null Count  Dtype         \n",
      "---  ------          --------------  -----         \n",
      " 0   order_id        44151 non-null  object        \n",
      " 1   order_date      44151 non-null  datetime64[ns]\n",
      " 2   ship_date       44151 non-null  datetime64[ns]\n",
      " 3   ship_mode       44151 non-null  object        \n",
      " 4   customer_name   44151 non-null  object        \n",
      " 5   segment         44151 non-null  object        \n",
      " 6   state           44151 non-null  object        \n",
      " 7   country         44151 non-null  object        \n",
      " 8   market          44151 non-null  object        \n",
      " 9   region          44151 non-null  object        \n",
      " 10  product_id      44151 non-null  object        \n",
      " 11  category        44151 non-null  object        \n",
      " 12  sub_category    44151 non-null  object        \n",
      " 13  product_name    44151 non-null  object        \n",
      " 14  sales           44151 non-null  float64       \n",
      " 15  quantity        44151 non-null  int64         \n",
      " 16  discount        44151 non-null  float64       \n",
      " 17  profit          44151 non-null  float64       \n",
      " 18  shipping_cost   44151 non-null  float64       \n",
      " 19  order_priority  44151 non-null  object        \n",
      " 20  year            44151 non-null  int64         \n",
      " 21  profit_margin   44151 non-null  float64       \n",
      "dtypes: datetime64[ns](2), float64(5), int64(2), object(13)\n",
      "memory usage: 7.7+ MB\n",
      "None\n",
      "==================================================\n",
      "              sales      quantity      discount        profit  shipping_cost  \\\n",
      "count  44151.000000  44151.000000  44151.000000  44151.000000   44151.000000   \n",
      "mean     108.129827      3.231999      0.149290      8.635722      11.790882   \n",
      "std      110.502848      2.139308      0.219499     57.988251      16.095630   \n",
      "min        1.000000      1.000000      0.000000  -1218.384000       0.000000   \n",
      "25%       26.000000      2.000000      0.000000     -0.041250       2.190000   \n",
      "50%       63.000000      3.000000      0.000000      7.300800       5.880000   \n",
      "75%      153.500000      4.000000      0.200000     24.707060      14.910000   \n",
      "max      476.000000     14.000000      0.850000    230.850000     226.730000   \n",
      "\n",
      "               year  profit_margin  \n",
      "count  44151.000000   44151.000000  \n",
      "mean    2012.779575       0.035128  \n",
      "std        1.097891       0.487968  \n",
      "min     2011.000000      -4.727752  \n",
      "25%     2012.000000      -0.000549  \n",
      "50%     2013.000000       0.169351  \n",
      "75%     2014.000000       0.337527  \n",
      "max     2014.000000       0.582800  \n",
      "==================================================\n",
      "Missing values in any of the columns this dataset are\n",
      "order_id          0\n",
      "order_date        0\n",
      "ship_date         0\n",
      "ship_mode         0\n",
      "customer_name     0\n",
      "segment           0\n",
      "state             0\n",
      "country           0\n",
      "market            0\n",
      "region            0\n",
      "product_id        0\n",
      "category          0\n",
      "sub_category      0\n",
      "product_name      0\n",
      "sales             0\n",
      "quantity          0\n",
      "discount          0\n",
      "profit            0\n",
      "shipping_cost     0\n",
      "order_priority    0\n",
      "year              0\n",
      "profit_margin     0\n",
      "dtype: int64\n"
     ]
    }
   ],
   "source": [
    "# Handle `-inf` in `profit_margin`\n",
    "# Replace -inf values with NaN\n",
    "df_cleaned['profit_margin'].replace([-float('inf'), float('inf')], float('nan'), inplace=True)\n",
    "\n",
    "# Drop rows where `sales` is 0 (since `profit_margin` calculation becomes undefined)\n",
    "df_cleaned = df_cleaned[df_cleaned['sales'] > 0]\n",
    "\n",
    "# Calling the custom basic_info function to validate changes  \n",
    "basic_info(df_cleaned)"
   ]
  },
  {
   "cell_type": "markdown",
   "metadata": {},
   "source": [
    "### Observations:\n",
    "The cleaned dataset is now ready and free of the issues"
   ]
  },
  {
   "cell_type": "code",
   "execution_count": 11,
   "metadata": {},
   "outputs": [
    {
     "data": {
      "text/plain": [
       "'Final_Cleaned_Superstore_Dataset.csv'"
      ]
     },
     "execution_count": 11,
     "metadata": {},
     "output_type": "execute_result"
    }
   ],
   "source": [
    "# Save the final cleaned dataset to a CSV file\n",
    "final_cleaned_data_path = \"Final_Cleaned_Superstore_Dataset.csv\"\n",
    "df_cleaned.to_csv(final_cleaned_data_path, index=False)\n",
    "\n",
    "final_cleaned_data_path"
   ]
  },
  {
   "cell_type": "markdown",
   "metadata": {},
   "source": [
    "# 4. <a id=\"descritive_analysis\">Descriptive Analysis</a> <font size='3'>[[Table of contents🔝]](#index)]<font size>"
   ]
  },
  {
   "cell_type": "markdown",
   "metadata": {},
   "source": [
    "## 4.1 <a id=\"overall_sales_and_profit_trends\">Overall Sales and Profit Trends</a> <font size='3'>[[Table of contents🔝]](#index)]<font size>"
   ]
  },
  {
   "cell_type": "markdown",
   "metadata": {},
   "source": [
    "### Overall Sales and Profit Trends by Year"
   ]
  },
  {
   "cell_type": "code",
   "execution_count": 12,
   "metadata": {
    "scrolled": false
   },
   "outputs": [
    {
     "data": {
      "image/png": "[encoded data removed]",
      "text/plain": [
       "<Figure size 720x432 with 1 Axes>"
      ]
     },
     "metadata": {
      "needs_background": "light"
     },
     "output_type": "display_data"
    }
   ],
   "source": [
    "# Overall sales and profit trends\n",
    "overall_sales_profit = df_cleaned.groupby('year')[['sales', 'profit']].sum()\n",
    "\n",
    "plt.figure(figsize=(10, 6))\n",
    "plt.plot(overall_sales_profit.index, overall_sales_profit['sales'], label='Sales', marker='o', color='darkblue')\n",
    "plt.plot(overall_sales_profit.index, overall_sales_profit['profit'], label='Profit', marker='o', color='#F07F09')\n",
    "plt.title('Overall Sales and Profit Trends by Year')\n",
    "plt.xlabel('Year')\n",
    "plt.ylabel('Amount')\n",
    "plt.legend()\n",
    "plt.grid()\n",
    "plt.show()\n"
   ]
  },
  {
   "cell_type": "markdown",
   "metadata": {},
   "source": [
    "### Observations:\n",
    "- Sales have consistently increased year over year, showing a positive growth trend.\n",
    "- Profit also shows a gradual increase but remains significantly lower compared to sales.\n",
    "- **Insights:**\n",
    "    - The business is growing in terms of sales volume, but profit margins appear to be relatively small.\n",
    "    - Further analysis could explore why profits are not increasing at the same rate as sales (e.g., high discounts, operational costs, or unprofitable products).\n"
   ]
  },
  {
   "cell_type": "markdown",
   "metadata": {},
   "source": [
    "### Sales vs. Profit by Category"
   ]
  },
  {
   "cell_type": "code",
   "execution_count": 13,
   "metadata": {},
   "outputs": [
    {
     "data": {
      "text/plain": [
       "<Figure size 720x432 with 0 Axes>"
      ]
     },
     "metadata": {},
     "output_type": "display_data"
    },
    {
     "data": {
      "image/png": "[encoded data removed]",
      "text/plain": [
       "<Figure size 720x432 with 1 Axes>"
      ]
     },
     "metadata": {
      "needs_background": "light"
     },
     "output_type": "display_data"
    }
   ],
   "source": [
    "# Category-level analysis\n",
    "category_analysis = df_cleaned.groupby('category')[['sales', 'profit']].sum().sort_values(by='profit', ascending=False)\n",
    "\n",
    "plt.figure(figsize=(10, 6))\n",
    "category_analysis[['sales', 'profit']].plot(kind='bar', figsize=(10, 6), color=['darkblue', '#F07F09'])\n",
    "plt.title('Sales vs. Profit by Category')\n",
    "plt.ylabel('Amount')\n",
    "plt.xlabel('Category')\n",
    "plt.xticks(rotation=45)\n",
    "plt.grid(axis='y')\n",
    "plt.show()"
   ]
  },
  {
   "cell_type": "markdown",
   "metadata": {},
   "source": [
    "### Observations:\n",
    "- Office Supplies has the highest sales and profit among all categories.\n",
    "- Technology has moderate sales and profit.\n",
    "- Furniture has high sales but low profit, suggesting smaller margins or operational inefficiencies.\n",
    "- **Insights:**\n",
    "    - Focus on improving profitability in the Furniture category.\n",
    "    - Office Supplies is the most profitable category and should be a priority for expansion or marketing.\n"
   ]
  },
  {
   "cell_type": "markdown",
   "metadata": {},
   "source": [
    "## 4.2 <a id=\"performance_by_customers_segments\">Performance by Customers Segments</a> <font size='3'>[[Table of contents🔝]](#index)]<font size>"
   ]
  },
  {
   "cell_type": "markdown",
   "metadata": {},
   "source": [
    "### Sales and Profit by Customers Segments"
   ]
  },
  {
   "cell_type": "code",
   "execution_count": 14,
   "metadata": {
    "scrolled": false
   },
   "outputs": [
    {
     "data": {
      "image/png": "[encoded data removed]",
      "text/plain": [
       "<Figure size 720x432 with 1 Axes>"
      ]
     },
     "metadata": {
      "needs_background": "light"
     },
     "output_type": "display_data"
    }
   ],
   "source": [
    "# Segment-level analysis\n",
    "segment_analysis = df_cleaned.groupby('segment')[['sales', 'profit']].sum().sort_values(by='profit', ascending=False)\n",
    "\n",
    "segment_analysis.plot(kind='bar', figsize=(10, 6), color=['darkblue', '#F07F09'])\n",
    "plt.title('Sales and Profit by Customers Segments')\n",
    "plt.ylabel('Amount')\n",
    "plt.xlabel('Segment')\n",
    "plt.xticks(rotation=0)\n",
    "plt.grid(axis='y')\n",
    "plt.show()"
   ]
  },
  {
   "cell_type": "markdown",
   "metadata": {},
   "source": [
    "### Observations:\n",
    "- Consumer Segment has the highest sales and profit.\n",
    "- Corporate Segment and Home Office show lower sales and profits.\n",
    "- **Insights:**\n",
    "    - The Consumer Segment is the key driver of revenue and profit, suggesting that marketing and operational efforts should focus more on this segment.\n",
    "    - Explore opportunities to grow Corporate and Home Office segments to balance revenue streams.\n"
   ]
  },
  {
   "cell_type": "markdown",
   "metadata": {},
   "source": [
    "### Sales and Profit by Region"
   ]
  },
  {
   "cell_type": "code",
   "execution_count": 15,
   "metadata": {
    "scrolled": false
   },
   "outputs": [
    {
     "data": {
      "image/png": "[encoded data removed]",
      "text/plain": [
       "<Figure size 720x432 with 1 Axes>"
      ]
     },
     "metadata": {
      "needs_background": "light"
     },
     "output_type": "display_data"
    }
   ],
   "source": [
    "# Region analysis\n",
    "\n",
    "# Group the data by region to get total sales and profit for each region\n",
    "region_analysis = df_cleaned.groupby('region')[['sales', 'profit']].sum().sort_values(by='profit', ascending=False)\n",
    "\n",
    "# Plot the sales and profit for each region with separate bars\n",
    "region_analysis.plot(kind='bar', figsize=(10, 6), color=['darkblue', '#F07F09'])\n",
    "\n",
    "# Add titles and labels\n",
    "plt.title('Sales and Profit by Region')\n",
    "plt.ylabel('Amount')\n",
    "plt.xlabel('Region')\n",
    "plt.xticks(rotation=45)\n",
    "plt.legend(['Sales', 'Profit'], title='Metric')\n",
    "plt.grid(axis='y', linestyle='--', alpha=0.7)\n",
    "plt.tight_layout()\n",
    "\n",
    "plt.show()\n"
   ]
  },
  {
   "cell_type": "markdown",
   "metadata": {},
   "source": [
    "### Observations:\n",
    "\n",
    "- **Central Region**<br>\n",
    "    - Dominates both sales and profit.\n",
    "    - Indicates this region is the primary revenue generator.\n",
    "- **South Region**<br>\n",
    "    - Shows high sales, but profits are comparatively much smaller.\n",
    "    - This could suggest operational inefficiencies, high discounts, or high costs in this region.\n",
    "- **Africa, Southeast Asia, and EMEA**<br>\n",
    "    - Moderate sales and low profits.\n",
    "    - These regions may not be as profitable due to high costs or low pricing strategies.\n",
    "- **Canada and Caribbean**<br>\n",
    "    - Minimal sales and almost negligible profit.\n",
    "    - These regions might not be key contributors to the business currently.\n",
    "- **North Asia and Oceania**<br>\n",
    "    - Moderate sales but very low profit margins.\n",
    "    - Indicates potential challenges in scaling profitability despite reasonable sales.\n"
   ]
  },
  {
   "cell_type": "markdown",
   "metadata": {},
   "source": [
    "# 5. <a id=\"products_profitability_analysis\">Products Profitability Analysis</a> <font size='3'>[[Table of contents🔝]](#index)]<font size>"
   ]
  },
  {
   "cell_type": "markdown",
   "metadata": {},
   "source": [
    "## 5.1 <a id=\"top_10_most_and_least_profitable_products\">Top 10 Most and Least Profitable Products</a> <font size='3'>[[Table of contents🔝]](#index)]<font size>"
   ]
  },
  {
   "cell_type": "code",
   "execution_count": 16,
   "metadata": {},
   "outputs": [
    {
     "data": {
      "image/png": "[encoded data removed]",
      "text/plain": [
       "<Figure size 864x432 with 2 Axes>"
      ]
     },
     "metadata": {
      "needs_background": "light"
     },
     "output_type": "display_data"
    }
   ],
   "source": [
    "# Most and least profitable products\n",
    "most_profitable_products = (\n",
    "    df_cleaned.groupby('product_name')['profit']\n",
    "    .sum()\n",
    "    .sort_values(ascending=False)\n",
    "    .head(10)\n",
    ")\n",
    "\n",
    "least_profitable_products = (\n",
    "    df_cleaned.groupby('product_name')['profit']\n",
    "    .sum()\n",
    "    .sort_values()\n",
    "    .head(10)\n",
    ")\n",
    "\n",
    "plt.figure(figsize=(12, 6))\n",
    "\n",
    "# Plot most profitable products\n",
    "plt.subplot(1, 2, 1)\n",
    "most_profitable_products.plot(kind='bar', color='#F07F09')\n",
    "plt.title('Top 10 Most Profitable Products')\n",
    "plt.ylabel('Profit')\n",
    "plt.xticks(rotation=90)\n",
    "\n",
    "# Plot least profitable products\n",
    "plt.subplot(1, 2, 2)\n",
    "least_profitable_products.plot(kind='bar', color='darkblue')\n",
    "plt.title('Top 10 Least Profitable Products')\n",
    "plt.ylabel('Profit')\n",
    "plt.xticks(rotation=90)\n",
    "\n",
    "plt.tight_layout()\n",
    "plt.show()"
   ]
  },
  {
   "cell_type": "markdown",
   "metadata": {},
   "source": [
    "### Observations:\n",
    "- **Most Profitable Products:**\n",
    "    Products like \"Staples\" and \"Cardinal Binding Machine\" are highly profitable.\n",
    "- **Least Profitable Products:**\n",
    "    Several products, such as \"Rogers Lockers\" and \"Smead File Cart\" show significant losses.\n",
    "- **Insights:**\n",
    "    - The least profitable products might need to be reassessed for discontinuation, cost optimization, or strategic discounts.\n",
    "    - Most profitable products should be prioritized in inventory and marketing efforts.\n"
   ]
  },
  {
   "cell_type": "markdown",
   "metadata": {},
   "source": [
    "## 5.2 <a id=\"profit_vs_sales_correlation\">Profit vs. Sales Correlation</a> <font size='3'>[[Table of contents🔝]](#index)]<font size>"
   ]
  },
  {
   "cell_type": "code",
   "execution_count": 17,
   "metadata": {},
   "outputs": [
    {
     "data": {
      "image/png": "[encoded data removed]",
      "text/plain": [
       "<Figure size 864x432 with 1 Axes>"
      ]
     },
     "metadata": {
      "needs_background": "light"
     },
     "output_type": "display_data"
    },
    {
     "data": {
      "image/png": "[encoded data removed]",
      "text/plain": [
       "<Figure size 864x432 with 1 Axes>"
      ]
     },
     "metadata": {
      "needs_background": "light"
     },
     "output_type": "display_data"
    },
    {
     "data": {
      "text/plain": [
       "{'High-Profit Products Correlation': 0.7215783669043353,\n",
       " 'Low-Profit Products Correlation': -0.38788251452024686}"
      ]
     },
     "execution_count": 17,
     "metadata": {},
     "output_type": "execute_result"
    }
   ],
   "source": [
    "# Profit vs Sales correlation for High- and Low-Profit Products\n",
    "\n",
    "# Group products by total profit and sales\n",
    "product_analysis = df_cleaned.groupby('product_name')[['sales', 'profit']].sum()\n",
    "\n",
    "# Divide products into High-Profit and Low-Profit categories\n",
    "high_profit_products = product_analysis[product_analysis['profit'] > 0]\n",
    "low_profit_products = product_analysis[product_analysis['profit'] <= 0]\n",
    "\n",
    "# Plot Profit vs Sales for High-Profit Products\n",
    "plt.figure(figsize=(12, 6))\n",
    "plt.scatter(high_profit_products['sales'], high_profit_products['profit'], color='#F07F09', alpha=0.7)\n",
    "plt.title('Profit vs Sales: High-Profit Products')\n",
    "plt.xlabel('Sales')\n",
    "plt.ylabel('Profit')\n",
    "plt.grid(True)\n",
    "plt.show()\n",
    "\n",
    "# Plot Profit vs Sales for Low-Profit Products\n",
    "plt.figure(figsize=(12, 6))\n",
    "plt.scatter(low_profit_products['sales'], low_profit_products['profit'], color='darkblue', alpha=0.7)\n",
    "plt.title('Profit vs Sales: Low-Profit Products')\n",
    "plt.xlabel('Sales')\n",
    "plt.ylabel('Profit')\n",
    "plt.grid(True)\n",
    "plt.show()\n",
    "\n",
    "# Correlation analysis\n",
    "high_profit_correlation = high_profit_products.corr()\n",
    "low_profit_correlation = low_profit_products.corr()\n",
    "\n",
    "{\n",
    "    \"High-Profit Products Correlation\": high_profit_correlation.loc['sales', 'profit'],\n",
    "    \"Low-Profit Products Correlation\": low_profit_correlation.loc['sales', 'profit']\n",
    "}\n"
   ]
  },
  {
   "cell_type": "markdown",
   "metadata": {},
   "source": [
    "### Observations:\n",
    "- **High-Profit Products** <br>\n",
    "    - The scatterplot and correlation coefficient (0.72) indicate a strong positive correlation between sales and profit.\n",
    "    - **Insights:** <br>\n",
    "        High-Profit Products should be prioritized for scaling efforts and marketing\n",
    "- **Low-Profit Products** <br>\n",
    "    - The scatterplot reveals a weak negative correlation (-0.38) between sales and profit.\n",
    "    - Many low-profit products have high sales but result in losses or minimal profits.\n",
    "    - There’s a visible cluster near zero profit, suggesting products that break even or incur small losses.\n",
    "- **Insights** <br>\n",
    "    - High-sales, low-profit products need a closer review of pricing and operational costs to identify inefficiencies.\n",
    "    - Some products with both low sales and low profits could be candidates for discontinuation.\n",
    "    - Products showing consistent losses should be flagged for potential re-pricing, cost-cutting, or elimination.\n"
   ]
  },
  {
   "cell_type": "markdown",
   "metadata": {},
   "source": [
    "### General Takeaways\n",
    "- **Growth Opportunities** <br>\n",
    "    - Focus on profitable categories (e.g., Office Supplies) and high-performing regions (e.g., Central).\n",
    "    - Address inefficiencies in low-profit categories and regions.\n",
    "- **Strategic Focus** <br>\n",
    "    - Invest in the Consumer segment, which drives the majority of sales and profit.    \n",
    "- **Product Portfolio** <br>\n",
    "    - **High-Profit Products** <br>\n",
    "        - Invest in scaling operations for high-profit products.\n",
    "        - Use these products as a benchmark for improving performance in other areas.\n",
    "    - **Low-Profit Products** <br>\n",
    "        - For high-sales, low-profit products, investigate cost structures, discounting strategies, and operational efficiencies.\n",
    "        - Consider discontinuing products with consistently low sales and profits.\n"
   ]
  },
  {
   "cell_type": "markdown",
   "metadata": {},
   "source": [
    "# 6. <a id=\"impact_of_discount_strategies\">Impact of Discount Strategies</a> <font size='3'>[[Table of contents🔝]](#index)]<font size>"
   ]
  },
  {
   "cell_type": "markdown",
   "metadata": {},
   "source": [
    "## 6.1 <a id=\"regression_analysis\">Regression Analysis</a> <font size='3'>[[Table of contents🔝]](#index)]<font size>\n",
    "    \n"
   ]
  },
  {
   "cell_type": "code",
   "execution_count": 18,
   "metadata": {},
   "outputs": [
    {
     "data": {
      "image/png": "[encoded data removed]",
      "text/plain": [
       "<Figure size 864x432 with 1 Axes>"
      ]
     },
     "metadata": {
      "needs_background": "light"
     },
     "output_type": "display_data"
    },
    {
     "data": {
      "image/png": "[encoded data removed]",
      "text/plain": [
       "<Figure size 864x432 with 1 Axes>"
      ]
     },
     "metadata": {
      "needs_background": "light"
     },
     "output_type": "display_data"
    }
   ],
   "source": [
    "# Group data by discount levels to analyze their impact on sales\n",
    "discount_analysis = df_cleaned.groupby('discount')[['sales']].sum()\n",
    "\n",
    "# Add average profit per discount level to the analysis\n",
    "discount_analysis['avg_profit'] = df_cleaned.groupby('discount')['profit'].mean()\n",
    "\n",
    "# Plot sales trends for different discount levels\n",
    "plt.figure(figsize=(12, 6))\n",
    "plt.plot(discount_analysis.index, discount_analysis['sales'], marker='o', color='darkblue', label='Total Sales')\n",
    "plt.title('Impact of Discount on Sales')\n",
    "plt.xlabel('Discount Level')\n",
    "plt.ylabel('Total Sales')\n",
    "plt.grid(True)\n",
    "plt.legend()\n",
    "plt.show()\n",
    "\n",
    "# Plot average profit trends for different discount levels\n",
    "plt.figure(figsize=(12, 6))\n",
    "plt.plot(discount_analysis.index, discount_analysis['avg_profit'], marker='o', color='#F07F09', label='Average Profit')\n",
    "plt.title('Impact of Discount on Profit')\n",
    "plt.xlabel('Discount Level')\n",
    "plt.ylabel('Average Profit')\n",
    "plt.grid(True)\n",
    "plt.legend()\n",
    "plt.show()"
   ]
  },
  {
   "cell_type": "markdown",
   "metadata": {},
   "source": [
    "### Observations\n",
    "- **Impact of Discounts on Sales** <br>\n",
    "    - Sales are highest at a 0% discount level, indicating that a significant portion of revenue comes from products sold at full price.\n",
    "    - **Insights** <br>\n",
    "        - Discounts do not always lead to higher sales.\n",
    "        - Applying steep discounts is not a guaranteed method for boosting revenue and may sweep away profitability.\n",
    "\n",
    "- **Impact of Discounts on Profit** <br> \n",
    "    - Profit decreases drastically as discounts increase.\n",
    "    - At higher discount levels (e.g., 80%+), profit turns negative, indicating significant losses for those transactions.\n",
    "    - **Insights** <br>\n",
    "        - Higher discounts erode profits significantly\n",
    "        - Moderate discounts (e.g., 10%-30%) seem to balance sales growth and profitability.\n"
   ]
  },
  {
   "cell_type": "markdown",
   "metadata": {},
   "source": [
    "### Correlation between discount and sales/profit"
   ]
  },
  {
   "cell_type": "code",
   "execution_count": 19,
   "metadata": {},
   "outputs": [
    {
     "data": {
      "text/plain": [
       "{'Correlation between discount and sales/profit': sales    -0.124927\n",
       " profit   -0.535301\n",
       " Name: discount, dtype: float64,\n",
       " 'Discount Analysis Data':               sales   avg_profit\n",
       " discount                        \n",
       " 0.000     2723424.0    27.328804\n",
       " 0.002       61446.0    63.690600\n",
       " 0.070       18838.0    54.402167\n",
       " 0.100      481823.0    24.751984\n",
       " 0.150       73636.0    20.127794\n",
       " 0.170       80792.0    13.232295\n",
       " 0.200      434269.0     9.840611\n",
       " 0.202        7030.0     2.881577\n",
       " 0.250       27081.0     2.198424\n",
       " 0.270       47015.0    -0.522097\n",
       " 0.300       43634.0   -27.601827\n",
       " 0.320        4027.0   -46.931218\n",
       " 0.350       12104.0   -45.133793\n",
       " 0.370       13663.0   -52.853400\n",
       " 0.400      286250.0   -26.639875\n",
       " 0.402       21380.0   -73.149185\n",
       " 0.450       23088.0   -29.502401\n",
       " 0.470       45623.0   -27.724386\n",
       " 0.500      138533.0   -49.004534\n",
       " 0.550        1095.0  -205.029500\n",
       " 0.570        2330.0  -245.365600\n",
       " 0.600      124899.0   -57.147724\n",
       " 0.602        3214.0  -133.609814\n",
       " 0.650        2156.0  -224.305375\n",
       " 0.700       86376.0   -72.051228\n",
       " 0.800       10072.0   -70.681645\n",
       " 0.850         242.0 -1144.116000}"
      ]
     },
     "execution_count": 19,
     "metadata": {},
     "output_type": "execute_result"
    }
   ],
   "source": [
    "# Correlation between discount and sales/profit\n",
    "discount_correlation = df_cleaned[['discount', 'sales', 'profit']].corr()\n",
    "\n",
    "discount_analysis_summary = {\n",
    "    \"Correlation between discount and sales/profit\": discount_correlation.loc['discount', ['sales', 'profit']],\n",
    "    \"Discount Analysis Data\": discount_analysis\n",
    "}\n",
    "\n",
    "discount_analysis_summary"
   ]
  },
  {
   "cell_type": "markdown",
   "metadata": {},
   "source": [
    "### Observations\n",
    "- **Discount vs. Sales**<br>\n",
    "    - Correlation: -0.124979 (weak negative correlation).\n",
    "    - Discounts do not strongly influence sales growth. Other factors, such as product demand, customer loyalty, and market conditions, may have a larger impact.\n",
    "- **Discount vs. Profit**<br>\n",
    "    - Correlation: -0.535259 (moderate negative correlation).\n",
    "    - Higher discounts lead to a measurable decline in profitability, indicating the importance of balancing discount levels to avoid eroding profit margins.\n"
   ]
  },
  {
   "cell_type": "markdown",
   "metadata": {},
   "source": [
    "### General Takeaways\n",
    "- **Steep Discounts Are Risky**<br>\n",
    "    - Discounts over 30% lead to diminishing sales returns and significantly reduced profitability. Use such discounts sparingly and only for strategic purposes (e.g., clearing inventory).\n",
    "- **Optimal Discount Range**<br>\n",
    "    - Discounts in the range of 10%-30% may balance increased sales with acceptable profit margins. This range should be targeted in promotional strategies.\n",
    "- **Focus on Full-Price Sales**<br>\n",
    "    - Products with strong demand can be sold with minimal or no discounts to maximize revenue and profitability.\n"
   ]
  },
  {
   "cell_type": "markdown",
   "metadata": {},
   "source": [
    "## 6.2 <a id=\"optimal_discount_range\">Optimal Discount Range</a> <font size='3'>[[Table of contents🔝]](#index)]<font size>"
   ]
  },
  {
   "cell_type": "code",
   "execution_count": 20,
   "metadata": {
    "scrolled": false
   },
   "outputs": [
    {
     "data": {
      "image/png": "[encoded data removed]",
      "text/plain": [
       "<Figure size 720x432 with 1 Axes>"
      ]
     },
     "metadata": {
      "needs_background": "light"
     },
     "output_type": "display_data"
    }
   ],
   "source": [
    "# Scatter plot: Discount vs. Profit\n",
    "plt.figure(figsize=(10, 6))\n",
    "plt.scatter(df_cleaned['discount'], df_cleaned['profit'], color='#F07F09', alpha = 0.8)\n",
    "plt.title('Optimal Discount Range')\n",
    "plt.xlabel('Discount (%)')\n",
    "plt.ylabel('Profit')\n",
    "plt.axvline(0.1, color='green', linestyle='--', label='Optimal Lower Bound (10%)')\n",
    "plt.axvline(0.3, color='red', linestyle='--', label='Optimal Upper Bound (30%)')\n",
    "plt.legend()\n",
    "plt.grid(alpha=0.3)\n",
    "plt.show()"
   ]
  },
  {
   "cell_type": "markdown",
   "metadata": {},
   "source": [
    "### Observations\n",
    "\n",
    "- Within the range 10-30%, most transactions appear to have positive or near-zero profits. This suggests that offering discounts within this range is generally profitable.\n",
    "- Beyond the upper bound (30%) many transactions resulting in negative profit, that indicates that discounts above 30% tend to erode profitability significantly.\n",
    "- Transactions with discounts below the lower bound (10%) show less variability in profit, this suggests that minimal discounts may preserve margins but might not drive higher sales volume.\n",
    "- **Insights:**\n",
    "    - The optimal discount range is 10%–30%, balancing profitability and sales volume.\n",
    "    - Avoid discounts beyond 30% as they result in diminished returns or losses."
   ]
  },
  {
   "cell_type": "markdown",
   "metadata": {},
   "source": [
    "### High-Profit Products Discount Range"
   ]
  },
  {
   "cell_type": "code",
   "execution_count": 21,
   "metadata": {},
   "outputs": [
    {
     "data": {
      "image/png": "[encoded data removed]",
      "text/plain": [
       "<Figure size 864x432 with 1 Axes>"
      ]
     },
     "metadata": {
      "needs_background": "light"
     },
     "output_type": "display_data"
    }
   ],
   "source": [
    "# Calculate optimal discount % for high-profit products\n",
    "\n",
    "# Filtering high-profit products\n",
    "high_profit_products = df_cleaned.groupby('product_name').agg(\n",
    "    sales=('sales', 'sum'),\n",
    "    profit=('profit', 'sum'),\n",
    "    discount=('discount', 'mean')\n",
    ").reset_index()\n",
    "\n",
    "# Displaying results\n",
    "high_profit_df = high_profit_products.sort_values(by='profit', ascending=False).head(10)\n",
    "\n",
    "# Plot for high-profit products\n",
    "plt.figure(figsize=(12, 6))\n",
    "plt.bar(high_profit_df['product_name'], high_profit_df['discount'], color='#F07F09')\n",
    "plt.title(\"Discount of High-Profit Products\")\n",
    "plt.xlabel(\"Product Name\")\n",
    "plt.ylabel(\"Discount (%)\")\n",
    "plt.xticks(rotation=45, ha='right')\n",
    "plt.tight_layout()\n",
    "plt.show()"
   ]
  },
  {
   "cell_type": "markdown",
   "metadata": {},
   "source": [
    "### Insights\n",
    "- The optimal discount percentages for high-profit products are relatively low, typically below 15%. This suggests that these products are profitable even with minimal discounts.\n",
    "- Offering excessive discounts on these products may not significantly improve their profitability and could potentially reduce the overall profit margins. Therefore, it's essential to maintain discounts within the identified optimal range."
   ]
  },
  {
   "cell_type": "markdown",
   "metadata": {},
   "source": [
    "### High-Sales Low-Profit Products Analysis"
   ]
  },
  {
   "cell_type": "code",
   "execution_count": 22,
   "metadata": {},
   "outputs": [
    {
     "data": {
      "image/png": "[encoded data removed]",
      "text/plain": [
       "<Figure size 864x432 with 1 Axes>"
      ]
     },
     "metadata": {
      "needs_background": "light"
     },
     "output_type": "display_data"
    }
   ],
   "source": [
    "# Calculate optimal discount % for products with high sales but low profit\n",
    "\n",
    "# Filtering high-sales low-profit products\n",
    "high_sales_low_profit_products = high_profit_products[\n",
    "    (high_profit_products['sales'] > high_profit_products['sales'].quantile(0.75)) &\n",
    "    (high_profit_products['profit'] < high_profit_products['profit'].quantile(0.25))\n",
    "]\n",
    "\n",
    "# Displaying results\n",
    "high_sales_low_profit_df = high_sales_low_profit_products.sort_values(by='sales', ascending=False).head(10)\n",
    "\n",
    "# Plot for high-sales, low-profit products\n",
    "plt.figure(figsize=(12, 6))\n",
    "plt.bar(high_sales_low_profit_df['product_name'], high_sales_low_profit_df['discount'], color='darkblue', alpha=0.8)\n",
    "plt.title(\"Discount of High-Sales, Low-Profit Products\")\n",
    "plt.xlabel(\"Product Name\")\n",
    "plt.ylabel(\"Discount (%)\")\n",
    "plt.xticks(rotation=45, ha='right')\n",
    "plt.tight_layout()\n",
    "plt.show()"
   ]
  },
  {
   "cell_type": "markdown",
   "metadata": {},
   "source": [
    "### Insights\n",
    "- The optimal discount percentages for high-sales, low-profit products are generally higher compared to high-profit products. They range from around 15% to 25%, reflecting the need to incentivize purchases while managing low profit margins.\n",
    "- **Strategic Focus:** <br>\n",
    "    - Increasing sales volume at these discounts can compensate for low profitability.\n",
    "    - They are suitable candidates for bundling with more profitable items to improve overall profitability.\n",
    "    - It may be worth exploring if reducing the discount slightly (while maintaining competitive pricing) could improve profit margins without significantly affecting sales volume."
   ]
  },
  {
   "cell_type": "markdown",
   "metadata": {},
   "source": [
    "# 7. <a id=\"product_bundling_opportunities\">Product Bundling Opportunities</a> <font size='3'>[[Table of contents🔝]](#index)]<font size>"
   ]
  },
  {
   "cell_type": "markdown",
   "metadata": {},
   "source": [
    "To analyze the potential improvement in profitability by bundling high-sales low-profit products with high-profit products, we can follow these steps:"
   ]
  },
  {
   "cell_type": "markdown",
   "metadata": {},
   "source": [
    "## 7.1 <a id=\"analyze_orders_sales_data\">Analyze Orders Sales Data</a> <font size='3'>[[Table of contents🔝]](#index)]<font size>"
   ]
  },
  {
   "cell_type": "code",
   "execution_count": 23,
   "metadata": {},
   "outputs": [
    {
     "name": "stdout",
     "output_type": "stream",
     "text": [
      "Bundle Profitability Summary\n",
      "==================================================\n"
     ]
    },
    {
     "data": {
      "text/html": [
       "<div>\n",
       "<style scoped>\n",
       "    .dataframe tbody tr th:only-of-type {\n",
       "        vertical-align: middle;\n",
       "    }\n",
       "\n",
       "    .dataframe tbody tr th {\n",
       "        vertical-align: top;\n",
       "    }\n",
       "\n",
       "    .dataframe thead th {\n",
       "        text-align: right;\n",
       "    }\n",
       "</style>\n",
       "<table border=\"1\" class=\"dataframe\">\n",
       "  <thead>\n",
       "    <tr style=\"text-align: right;\">\n",
       "      <th></th>\n",
       "      <th>sales</th>\n",
       "      <th>profit</th>\n",
       "    </tr>\n",
       "  </thead>\n",
       "  <tbody>\n",
       "    <tr>\n",
       "      <th>count</th>\n",
       "      <td>23197.000000</td>\n",
       "      <td>23197.000000</td>\n",
       "    </tr>\n",
       "    <tr>\n",
       "      <th>mean</th>\n",
       "      <td>205.804199</td>\n",
       "      <td>16.436425</td>\n",
       "    </tr>\n",
       "    <tr>\n",
       "      <th>std</th>\n",
       "      <td>212.275801</td>\n",
       "      <td>97.602901</td>\n",
       "    </tr>\n",
       "    <tr>\n",
       "      <th>min</th>\n",
       "      <td>1.000000</td>\n",
       "      <td>-1653.096000</td>\n",
       "    </tr>\n",
       "    <tr>\n",
       "      <th>25%</th>\n",
       "      <td>49.000000</td>\n",
       "      <td>0.000000</td>\n",
       "    </tr>\n",
       "    <tr>\n",
       "      <th>50%</th>\n",
       "      <td>134.000000</td>\n",
       "      <td>14.109800</td>\n",
       "    </tr>\n",
       "    <tr>\n",
       "      <th>75%</th>\n",
       "      <td>299.000000</td>\n",
       "      <td>49.560000</td>\n",
       "    </tr>\n",
       "    <tr>\n",
       "      <th>max</th>\n",
       "      <td>2050.000000</td>\n",
       "      <td>568.557000</td>\n",
       "    </tr>\n",
       "  </tbody>\n",
       "</table>\n",
       "</div>"
      ],
      "text/plain": [
       "              sales        profit\n",
       "count  23197.000000  23197.000000\n",
       "mean     205.804199     16.436425\n",
       "std      212.275801     97.602901\n",
       "min        1.000000  -1653.096000\n",
       "25%       49.000000      0.000000\n",
       "50%      134.000000     14.109800\n",
       "75%      299.000000     49.560000\n",
       "max     2050.000000    568.557000"
      ]
     },
     "execution_count": 23,
     "metadata": {},
     "output_type": "execute_result"
    }
   ],
   "source": [
    "# Calculate the total sales and profit for each combination of products\n",
    "bundle_analysis = df_cleaned.groupby(['order_id'])[['sales', 'profit']].sum()\n",
    "\n",
    "# Summarize data for insights\n",
    "bundle_summary = bundle_analysis.describe()\n",
    "\n",
    "print(\"Bundle Profitability Summary\")\n",
    "print('='*50)\n",
    "bundle_summary"
   ]
  },
  {
   "cell_type": "markdown",
   "metadata": {},
   "source": [
    "### Observations\n",
    "- There are 23,197 unique orders with average sales per order of 205.80. \n",
    "- The sales vary significantly, with a standard deviation of 212.28, indicating wide differences in order sizes.\n",
    "- The average profit per order is 16.43, which is relatively small compared to the average sales.\n",
    "- Profit also shows a large variance of 97.60, suggesting some orders are highly profitable while others are not.\n",
    "- The large gap between the mean and max sales/profit compared to the percentiles indicates a skewed distribution, with a small number of high-value orders disproportionately contributing to total sales and profit.\n",
    "- **Insights** <br>\n",
    "    - Identifying and analyzing the characteristics of high-sales and high-profit orders could reveal opportunities for product bundling to replicate their success."
   ]
  },
  {
   "cell_type": "markdown",
   "metadata": {},
   "source": [
    "### Observations\n",
    "\n",
    "- The chart show the profitability of bundeled orders (having at least 2 products in a bundled transaction)\n",
    "- The orders on the left side of the chart represent the most profitable bundled transactions.\n",
    "- The orders on the right side of the chart are associated with significant losses.\n",
    "- There is a significant variation in the profitability of bundled transactions, from highly profitable bundles (positive profits) to loss-making bundles (negative profits).\n",
    "- **Insights**<br>\n",
    "    - Orders with substantial negative profits suggest opportunities to revise bundling strategies:\n",
    "        - Evaluate the discounts applied—ensure they fall within the identified optimal range (10%-30% from previous analyses).\n",
    "        - Check whether low-profit products can be replaced with alternative high-margin items."
   ]
  },
  {
   "cell_type": "markdown",
   "metadata": {},
   "source": [
    "## 7.2 <a id=\"analysing_bundling_high_profit_products\">Analysing bundling High-profit products</a> <font size='3'>[[Table of contents🔝]](#index)]<font size>"
   ]
  },
  {
   "cell_type": "markdown",
   "metadata": {},
   "source": [
    "### Create a Bundling Dataset"
   ]
  },
  {
   "cell_type": "code",
   "execution_count": 24,
   "metadata": {},
   "outputs": [
    {
     "name": "stdout",
     "output_type": "stream",
     "text": [
      "High-Profit Products\n",
      "==================================================\n"
     ]
    },
    {
     "data": {
      "text/html": [
       "<div>\n",
       "<style scoped>\n",
       "    .dataframe tbody tr th:only-of-type {\n",
       "        vertical-align: middle;\n",
       "    }\n",
       "\n",
       "    .dataframe tbody tr th {\n",
       "        vertical-align: top;\n",
       "    }\n",
       "\n",
       "    .dataframe thead th {\n",
       "        text-align: right;\n",
       "    }\n",
       "</style>\n",
       "<table border=\"1\" class=\"dataframe\">\n",
       "  <thead>\n",
       "    <tr style=\"text-align: right;\">\n",
       "      <th></th>\n",
       "      <th>product_name</th>\n",
       "      <th>sales</th>\n",
       "      <th>profit</th>\n",
       "      <th>discount</th>\n",
       "    </tr>\n",
       "  </thead>\n",
       "  <tbody>\n",
       "    <tr>\n",
       "      <th>3122</th>\n",
       "      <td>Staples</td>\n",
       "      <td>7009.0</td>\n",
       "      <td>2611.0694</td>\n",
       "      <td>0.093392</td>\n",
       "    </tr>\n",
       "    <tr>\n",
       "      <th>837</th>\n",
       "      <td>Cardinal Binding Machine, Clear</td>\n",
       "      <td>7081.0</td>\n",
       "      <td>2608.0257</td>\n",
       "      <td>0.053333</td>\n",
       "    </tr>\n",
       "    <tr>\n",
       "      <th>1360</th>\n",
       "      <td>Fellowes Lockers, Wire Frame</td>\n",
       "      <td>7131.0</td>\n",
       "      <td>2008.6940</td>\n",
       "      <td>0.146923</td>\n",
       "    </tr>\n",
       "    <tr>\n",
       "      <th>299</th>\n",
       "      <td>Apple Office Telephone, Cordless</td>\n",
       "      <td>5058.0</td>\n",
       "      <td>2007.4170</td>\n",
       "      <td>0.155556</td>\n",
       "    </tr>\n",
       "    <tr>\n",
       "      <th>676</th>\n",
       "      <td>Boston Sketch Pad, Blue</td>\n",
       "      <td>5549.0</td>\n",
       "      <td>1927.3360</td>\n",
       "      <td>0.101707</td>\n",
       "    </tr>\n",
       "    <tr>\n",
       "      <th>2921</th>\n",
       "      <td>Sanford Pencil Sharpener, Easy-Erase</td>\n",
       "      <td>4393.0</td>\n",
       "      <td>1837.8950</td>\n",
       "      <td>0.137755</td>\n",
       "    </tr>\n",
       "    <tr>\n",
       "      <th>1859</th>\n",
       "      <td>Ibico Binding Machine, Durable</td>\n",
       "      <td>6418.0</td>\n",
       "      <td>1821.9780</td>\n",
       "      <td>0.117959</td>\n",
       "    </tr>\n",
       "    <tr>\n",
       "      <th>2710</th>\n",
       "      <td>Rogers Lockers, Single Width</td>\n",
       "      <td>5009.0</td>\n",
       "      <td>1764.9990</td>\n",
       "      <td>0.104118</td>\n",
       "    </tr>\n",
       "    <tr>\n",
       "      <th>1375</th>\n",
       "      <td>Fellowes Shelving, Wire Frame</td>\n",
       "      <td>5162.0</td>\n",
       "      <td>1743.6854</td>\n",
       "      <td>0.136471</td>\n",
       "    </tr>\n",
       "    <tr>\n",
       "      <th>3280</th>\n",
       "      <td>Tenex Trays, Wire Frame</td>\n",
       "      <td>4848.0</td>\n",
       "      <td>1673.3320</td>\n",
       "      <td>0.139000</td>\n",
       "    </tr>\n",
       "  </tbody>\n",
       "</table>\n",
       "</div>"
      ],
      "text/plain": [
       "                              product_name   sales     profit  discount\n",
       "3122                               Staples  7009.0  2611.0694  0.093392\n",
       "837        Cardinal Binding Machine, Clear  7081.0  2608.0257  0.053333\n",
       "1360          Fellowes Lockers, Wire Frame  7131.0  2008.6940  0.146923\n",
       "299       Apple Office Telephone, Cordless  5058.0  2007.4170  0.155556\n",
       "676                Boston Sketch Pad, Blue  5549.0  1927.3360  0.101707\n",
       "2921  Sanford Pencil Sharpener, Easy-Erase  4393.0  1837.8950  0.137755\n",
       "1859        Ibico Binding Machine, Durable  6418.0  1821.9780  0.117959\n",
       "2710          Rogers Lockers, Single Width  5009.0  1764.9990  0.104118\n",
       "1375         Fellowes Shelving, Wire Frame  5162.0  1743.6854  0.136471\n",
       "3280               Tenex Trays, Wire Frame  4848.0  1673.3320  0.139000"
      ]
     },
     "execution_count": 24,
     "metadata": {},
     "output_type": "execute_result"
    }
   ],
   "source": [
    "# Identify high-profit products\n",
    "\n",
    "high_profit_products = df_cleaned.groupby('product_name').agg(\n",
    "    sales=('sales', 'sum'),\n",
    "    profit=('profit', 'sum'),\n",
    "    discount=('discount', 'mean')\n",
    ").reset_index()\n",
    "high_profit_products = high_profit_products.sort_values(by='profit', ascending=False).head(10)\n",
    "\n",
    "print('High-Profit Products')\n",
    "print('='*50)\n",
    "high_profit_products"
   ]
  },
  {
   "cell_type": "code",
   "execution_count": 25,
   "metadata": {
    "scrolled": false
   },
   "outputs": [
    {
     "name": "stdout",
     "output_type": "stream",
     "text": [
      "High-Sales Low-Profit Products\n",
      "==================================================\n"
     ]
    },
    {
     "data": {
      "text/html": [
       "<div>\n",
       "<style scoped>\n",
       "    .dataframe tbody tr th:only-of-type {\n",
       "        vertical-align: middle;\n",
       "    }\n",
       "\n",
       "    .dataframe tbody tr th {\n",
       "        vertical-align: top;\n",
       "    }\n",
       "\n",
       "    .dataframe thead th {\n",
       "        text-align: right;\n",
       "    }\n",
       "</style>\n",
       "<table border=\"1\" class=\"dataframe\">\n",
       "  <thead>\n",
       "    <tr style=\"text-align: right;\">\n",
       "      <th></th>\n",
       "      <th>product_name</th>\n",
       "      <th>sales</th>\n",
       "      <th>profit</th>\n",
       "      <th>discount</th>\n",
       "    </tr>\n",
       "  </thead>\n",
       "  <tbody>\n",
       "    <tr>\n",
       "      <th>3027</th>\n",
       "      <td>Smead File Cart, Single Width</td>\n",
       "      <td>12693.0</td>\n",
       "      <td>-1220.7052</td>\n",
       "      <td>0.194333</td>\n",
       "    </tr>\n",
       "    <tr>\n",
       "      <th>1351</th>\n",
       "      <td>Fellowes File Cart, Wire Frame</td>\n",
       "      <td>8748.0</td>\n",
       "      <td>-276.0838</td>\n",
       "      <td>0.194250</td>\n",
       "    </tr>\n",
       "    <tr>\n",
       "      <th>1350</th>\n",
       "      <td>Fellowes File Cart, Single Width</td>\n",
       "      <td>8068.0</td>\n",
       "      <td>-213.9006</td>\n",
       "      <td>0.151250</td>\n",
       "    </tr>\n",
       "    <tr>\n",
       "      <th>1171</th>\n",
       "      <td>Eldon Lockers, Blue</td>\n",
       "      <td>6996.0</td>\n",
       "      <td>-1980.2424</td>\n",
       "      <td>0.263913</td>\n",
       "    </tr>\n",
       "    <tr>\n",
       "      <th>3043</th>\n",
       "      <td>Smead Lockers, Wire Frame</td>\n",
       "      <td>6874.0</td>\n",
       "      <td>-475.1316</td>\n",
       "      <td>0.116087</td>\n",
       "    </tr>\n",
       "    <tr>\n",
       "      <th>...</th>\n",
       "      <td>...</td>\n",
       "      <td>...</td>\n",
       "      <td>...</td>\n",
       "      <td>...</td>\n",
       "    </tr>\n",
       "    <tr>\n",
       "      <th>1292</th>\n",
       "      <td>Epson Inkjet, Wireless</td>\n",
       "      <td>1926.0</td>\n",
       "      <td>-1091.5830</td>\n",
       "      <td>0.307143</td>\n",
       "    </tr>\n",
       "    <tr>\n",
       "      <th>1051</th>\n",
       "      <td>Deflect-O Stacking Tray, Erganomic</td>\n",
       "      <td>1925.0</td>\n",
       "      <td>-91.3392</td>\n",
       "      <td>0.191765</td>\n",
       "    </tr>\n",
       "    <tr>\n",
       "      <th>2285</th>\n",
       "      <td>Motorola Office Telephone, with Caller ID</td>\n",
       "      <td>1924.0</td>\n",
       "      <td>-210.7012</td>\n",
       "      <td>0.265455</td>\n",
       "    </tr>\n",
       "    <tr>\n",
       "      <th>1394</th>\n",
       "      <td>Fiskars Box Cutter, High Speed</td>\n",
       "      <td>1916.0</td>\n",
       "      <td>-108.0352</td>\n",
       "      <td>0.213913</td>\n",
       "    </tr>\n",
       "    <tr>\n",
       "      <th>2945</th>\n",
       "      <td>Sauder Camden County Collection Libraries, Pla...</td>\n",
       "      <td>1909.0</td>\n",
       "      <td>-78.1864</td>\n",
       "      <td>0.145714</td>\n",
       "    </tr>\n",
       "  </tbody>\n",
       "</table>\n",
       "<p>249 rows × 4 columns</p>\n",
       "</div>"
      ],
      "text/plain": [
       "                                           product_name    sales     profit  \\\n",
       "3027                      Smead File Cart, Single Width  12693.0 -1220.7052   \n",
       "1351                     Fellowes File Cart, Wire Frame   8748.0  -276.0838   \n",
       "1350                   Fellowes File Cart, Single Width   8068.0  -213.9006   \n",
       "1171                                Eldon Lockers, Blue   6996.0 -1980.2424   \n",
       "3043                          Smead Lockers, Wire Frame   6874.0  -475.1316   \n",
       "...                                                 ...      ...        ...   \n",
       "1292                             Epson Inkjet, Wireless   1926.0 -1091.5830   \n",
       "1051                 Deflect-O Stacking Tray, Erganomic   1925.0   -91.3392   \n",
       "2285          Motorola Office Telephone, with Caller ID   1924.0  -210.7012   \n",
       "1394                     Fiskars Box Cutter, High Speed   1916.0  -108.0352   \n",
       "2945  Sauder Camden County Collection Libraries, Pla...   1909.0   -78.1864   \n",
       "\n",
       "      discount  \n",
       "3027  0.194333  \n",
       "1351  0.194250  \n",
       "1350  0.151250  \n",
       "1171  0.263913  \n",
       "3043  0.116087  \n",
       "...        ...  \n",
       "1292  0.307143  \n",
       "1051  0.191765  \n",
       "2285  0.265455  \n",
       "1394  0.213913  \n",
       "2945  0.145714  \n",
       "\n",
       "[249 rows x 4 columns]"
      ]
     },
     "execution_count": 25,
     "metadata": {},
     "output_type": "execute_result"
    }
   ],
   "source": [
    "# Identify high-sales low-profit products\n",
    "\n",
    "high_sales_low_profit_products = df_cleaned.groupby('product_name').agg(\n",
    "    sales=('sales', 'sum'),\n",
    "    profit=('profit', 'sum'),\n",
    "    discount=('discount', 'mean')\n",
    ").reset_index()\n",
    "high_sales_low_profit_products = high_sales_low_profit_products[\n",
    "    (high_sales_low_profit_products['sales'] > high_sales_low_profit_products['sales'].quantile(0.75)) &\n",
    "    (high_sales_low_profit_products['profit'] < high_sales_low_profit_products['profit'].quantile(0.25))\n",
    "]\n",
    "\n",
    "print('High-Sales Low-Profit Products')\n",
    "print('='*50)\n",
    "high_sales_low_profit_products.sort_values(by='sales', ascending=False)"
   ]
  },
  {
   "cell_type": "markdown",
   "metadata": {},
   "source": [
    "### High-sales low-profit products bundled to high-profit products"
   ]
  },
  {
   "cell_type": "code",
   "execution_count": 26,
   "metadata": {
    "scrolled": false
   },
   "outputs": [],
   "source": [
    "# Identify transactions containing both product groups strictly\n",
    "# Get orders that contain high-profit products\n",
    "orders_with_high_profit = df_cleaned[df_cleaned['product_name'].isin(high_profit_products['product_name'])]\n",
    "\n",
    "# Get orders that contain high-sales low-profit products\n",
    "orders_with_low_profit = df_cleaned[df_cleaned['product_name'].isin(high_sales_low_profit_products['product_name'])]\n",
    "\n",
    "# Find orders that have at least one high-profit product and one high-sales low-profit product\n",
    "common_orders = set(orders_with_high_profit['order_id']).intersection(set(orders_with_low_profit['order_id']))\n",
    "\n",
    "# Filter transactions to include only those orders\n",
    "bundling_transactions = df_cleaned[\n",
    "    (df_cleaned['order_id'].isin(common_orders)) &\n",
    "    (df_cleaned['product_name'].isin(\n",
    "        high_profit_products['product_name'].tolist() + high_sales_low_profit_products['product_name'].tolist()\n",
    "    ))\n",
    "]"
   ]
  },
  {
   "cell_type": "code",
   "execution_count": 27,
   "metadata": {
    "scrolled": false
   },
   "outputs": [
    {
     "name": "stdout",
     "output_type": "stream",
     "text": [
      "Transactions with High-sales low-profit products bundled to high-profit products\n",
      "==================================================\n"
     ]
    },
    {
     "data": {
      "text/html": [
       "<div>\n",
       "<style scoped>\n",
       "    .dataframe tbody tr th:only-of-type {\n",
       "        vertical-align: middle;\n",
       "    }\n",
       "\n",
       "    .dataframe tbody tr th {\n",
       "        vertical-align: top;\n",
       "    }\n",
       "\n",
       "    .dataframe thead th {\n",
       "        text-align: right;\n",
       "    }\n",
       "</style>\n",
       "<table border=\"1\" class=\"dataframe\">\n",
       "  <thead>\n",
       "    <tr style=\"text-align: right;\">\n",
       "      <th></th>\n",
       "      <th>order_id</th>\n",
       "      <th>total_sales</th>\n",
       "      <th>total_profit</th>\n",
       "      <th>average_discount</th>\n",
       "      <th>products_in_order</th>\n",
       "    </tr>\n",
       "  </thead>\n",
       "  <tbody>\n",
       "    <tr>\n",
       "      <th>18</th>\n",
       "      <td>ES-2014-2296898</td>\n",
       "      <td>821.0</td>\n",
       "      <td>195.780</td>\n",
       "      <td>0.00</td>\n",
       "      <td>Cardinal Binding Machine, Clear; Stiletto Shea...</td>\n",
       "    </tr>\n",
       "    <tr>\n",
       "      <th>21</th>\n",
       "      <td>ES-2014-2938679</td>\n",
       "      <td>558.0</td>\n",
       "      <td>193.584</td>\n",
       "      <td>0.05</td>\n",
       "      <td>Advantus Frame, Black; Tenex Trays, Wire Frame</td>\n",
       "    </tr>\n",
       "    <tr>\n",
       "      <th>51</th>\n",
       "      <td>MO-2013-4200</td>\n",
       "      <td>614.0</td>\n",
       "      <td>193.380</td>\n",
       "      <td>0.00</td>\n",
       "      <td>Tenex Trays, Wire Frame; Brother Fax and Copie...</td>\n",
       "    </tr>\n",
       "    <tr>\n",
       "      <th>11</th>\n",
       "      <td>ES-2012-3231769</td>\n",
       "      <td>511.0</td>\n",
       "      <td>188.640</td>\n",
       "      <td>0.00</td>\n",
       "      <td>Fellowes Lockers, Wire Frame; Eldon Shelving, ...</td>\n",
       "    </tr>\n",
       "    <tr>\n",
       "      <th>32</th>\n",
       "      <td>IN-2013-59356</td>\n",
       "      <td>771.0</td>\n",
       "      <td>187.680</td>\n",
       "      <td>0.00</td>\n",
       "      <td>Tenex Trays, Wire Frame; Motorola Speaker Phon...</td>\n",
       "    </tr>\n",
       "    <tr>\n",
       "      <th>...</th>\n",
       "      <td>...</td>\n",
       "      <td>...</td>\n",
       "      <td>...</td>\n",
       "      <td>...</td>\n",
       "      <td>...</td>\n",
       "    </tr>\n",
       "    <tr>\n",
       "      <th>43</th>\n",
       "      <td>IT-2014-4709866</td>\n",
       "      <td>414.0</td>\n",
       "      <td>-204.165</td>\n",
       "      <td>0.50</td>\n",
       "      <td>Acme Trimmer, Serrated; Apple Office Telephone...</td>\n",
       "    </tr>\n",
       "    <tr>\n",
       "      <th>67</th>\n",
       "      <td>TU-2014-3560</td>\n",
       "      <td>283.0</td>\n",
       "      <td>-277.758</td>\n",
       "      <td>0.60</td>\n",
       "      <td>Deflect-O Frame, Erganomic; Brother Fax and Co...</td>\n",
       "    </tr>\n",
       "    <tr>\n",
       "      <th>39</th>\n",
       "      <td>IT-2011-4565126</td>\n",
       "      <td>640.0</td>\n",
       "      <td>-441.165</td>\n",
       "      <td>0.50</td>\n",
       "      <td>Apple Signal Booster, Full Size; Fellowes Lock...</td>\n",
       "    </tr>\n",
       "    <tr>\n",
       "      <th>57</th>\n",
       "      <td>NI-2013-9100</td>\n",
       "      <td>321.0</td>\n",
       "      <td>-465.291</td>\n",
       "      <td>0.70</td>\n",
       "      <td>Motorola Office Telephone, Cordless; Sanford P...</td>\n",
       "    </tr>\n",
       "    <tr>\n",
       "      <th>49</th>\n",
       "      <td>KZ-2011-5830</td>\n",
       "      <td>290.0</td>\n",
       "      <td>-501.480</td>\n",
       "      <td>0.70</td>\n",
       "      <td>Novimex Rocking Chair, Black; Boston Sketch Pa...</td>\n",
       "    </tr>\n",
       "  </tbody>\n",
       "</table>\n",
       "<p>79 rows × 5 columns</p>\n",
       "</div>"
      ],
      "text/plain": [
       "           order_id  total_sales  total_profit  average_discount  \\\n",
       "18  ES-2014-2296898        821.0       195.780              0.00   \n",
       "21  ES-2014-2938679        558.0       193.584              0.05   \n",
       "51     MO-2013-4200        614.0       193.380              0.00   \n",
       "11  ES-2012-3231769        511.0       188.640              0.00   \n",
       "32    IN-2013-59356        771.0       187.680              0.00   \n",
       "..              ...          ...           ...               ...   \n",
       "43  IT-2014-4709866        414.0      -204.165              0.50   \n",
       "67     TU-2014-3560        283.0      -277.758              0.60   \n",
       "39  IT-2011-4565126        640.0      -441.165              0.50   \n",
       "57     NI-2013-9100        321.0      -465.291              0.70   \n",
       "49     KZ-2011-5830        290.0      -501.480              0.70   \n",
       "\n",
       "                                    products_in_order  \n",
       "18  Cardinal Binding Machine, Clear; Stiletto Shea...  \n",
       "21     Advantus Frame, Black; Tenex Trays, Wire Frame  \n",
       "51  Tenex Trays, Wire Frame; Brother Fax and Copie...  \n",
       "11  Fellowes Lockers, Wire Frame; Eldon Shelving, ...  \n",
       "32  Tenex Trays, Wire Frame; Motorola Speaker Phon...  \n",
       "..                                                ...  \n",
       "43  Acme Trimmer, Serrated; Apple Office Telephone...  \n",
       "67  Deflect-O Frame, Erganomic; Brother Fax and Co...  \n",
       "39  Apple Signal Booster, Full Size; Fellowes Lock...  \n",
       "57  Motorola Office Telephone, Cordless; Sanford P...  \n",
       "49  Novimex Rocking Chair, Black; Boston Sketch Pa...  \n",
       "\n",
       "[79 rows x 5 columns]"
      ]
     },
     "execution_count": 27,
     "metadata": {},
     "output_type": "execute_result"
    }
   ],
   "source": [
    "# Group by order_id and aggregate\n",
    "bundling_summary = bundling_transactions.groupby('order_id').agg({\n",
    "    'sales': 'sum',\n",
    "    'profit': 'sum',\n",
    "    'discount': 'mean',\n",
    "    'product_name': lambda x: '; '.join(x.unique())\n",
    "}).reset_index()\n",
    "\n",
    "bundling_summary.rename(columns={\n",
    "    'sales': 'total_sales',\n",
    "    'profit': 'total_profit',\n",
    "    'discount': 'average_discount',\n",
    "    'product_name': 'products_in_order'\n",
    "}, inplace=True)\n",
    "\n",
    "# Display Bundling Transactions\n",
    "print('Transactions with High-sales low-profit products bundled to high-profit products')\n",
    "print('='*50)\n",
    "bundling_summary.sort_values(by='total_profit', ascending=False)\n"
   ]
  },
  {
   "cell_type": "code",
   "execution_count": 38,
   "metadata": {},
   "outputs": [
    {
     "data": {
      "text/html": [
       "<div>\n",
       "<style scoped>\n",
       "    .dataframe tbody tr th:only-of-type {\n",
       "        vertical-align: middle;\n",
       "    }\n",
       "\n",
       "    .dataframe tbody tr th {\n",
       "        vertical-align: top;\n",
       "    }\n",
       "\n",
       "    .dataframe thead th {\n",
       "        text-align: right;\n",
       "    }\n",
       "</style>\n",
       "<table border=\"1\" class=\"dataframe\">\n",
       "  <thead>\n",
       "    <tr style=\"text-align: right;\">\n",
       "      <th></th>\n",
       "      <th>product_name</th>\n",
       "      <th>Bundled_Sales</th>\n",
       "      <th>Bundled_Profit</th>\n",
       "      <th>Unbundled_Sales</th>\n",
       "      <th>Unbundled_Profit</th>\n",
       "      <th>Bundled_Profit_Margin</th>\n",
       "      <th>Unbundled_Profit_Margin</th>\n",
       "    </tr>\n",
       "  </thead>\n",
       "  <tbody>\n",
       "    <tr>\n",
       "      <th>0</th>\n",
       "      <td>Acme Trimmer, Serrated</td>\n",
       "      <td>186.0</td>\n",
       "      <td>-141.210</td>\n",
       "      <td>2154.0</td>\n",
       "      <td>122.1464</td>\n",
       "      <td>-0.759194</td>\n",
       "      <td>0.056707</td>\n",
       "    </tr>\n",
       "    <tr>\n",
       "      <th>1</th>\n",
       "      <td>Advantus Frame, Black</td>\n",
       "      <td>222.0</td>\n",
       "      <td>44.400</td>\n",
       "      <td>2792.0</td>\n",
       "      <td>-539.4940</td>\n",
       "      <td>0.200000</td>\n",
       "      <td>-0.193229</td>\n",
       "    </tr>\n",
       "    <tr>\n",
       "      <th>2</th>\n",
       "      <td>Apple Office Telephone, Cordless</td>\n",
       "      <td>469.0</td>\n",
       "      <td>80.937</td>\n",
       "      <td>4589.0</td>\n",
       "      <td>1926.4800</td>\n",
       "      <td>0.172574</td>\n",
       "      <td>0.419804</td>\n",
       "    </tr>\n",
       "    <tr>\n",
       "      <th>3</th>\n",
       "      <td>Apple Signal Booster, Cordless</td>\n",
       "      <td>140.0</td>\n",
       "      <td>34.860</td>\n",
       "      <td>5503.0</td>\n",
       "      <td>-747.5400</td>\n",
       "      <td>0.249000</td>\n",
       "      <td>-0.135842</td>\n",
       "    </tr>\n",
       "    <tr>\n",
       "      <th>4</th>\n",
       "      <td>Apple Signal Booster, Full Size</td>\n",
       "      <td>414.0</td>\n",
       "      <td>-372.600</td>\n",
       "      <td>3431.0</td>\n",
       "      <td>-566.7420</td>\n",
       "      <td>-0.900000</td>\n",
       "      <td>-0.165183</td>\n",
       "    </tr>\n",
       "    <tr>\n",
       "      <th>...</th>\n",
       "      <td>...</td>\n",
       "      <td>...</td>\n",
       "      <td>...</td>\n",
       "      <td>...</td>\n",
       "      <td>...</td>\n",
       "      <td>...</td>\n",
       "      <td>...</td>\n",
       "    </tr>\n",
       "    <tr>\n",
       "      <th>3620</th>\n",
       "      <td>iKross Bluetooth Portable Keyboard + Cell Phon...</td>\n",
       "      <td>0.0</td>\n",
       "      <td>0.000</td>\n",
       "      <td>479.0</td>\n",
       "      <td>115.6440</td>\n",
       "      <td>0.000000</td>\n",
       "      <td>0.241428</td>\n",
       "    </tr>\n",
       "    <tr>\n",
       "      <th>3621</th>\n",
       "      <td>iOttie HLCRIO102 Car Mount</td>\n",
       "      <td>0.0</td>\n",
       "      <td>0.000</td>\n",
       "      <td>216.0</td>\n",
       "      <td>-11.9940</td>\n",
       "      <td>0.000000</td>\n",
       "      <td>-0.055528</td>\n",
       "    </tr>\n",
       "    <tr>\n",
       "      <th>3622</th>\n",
       "      <td>iOttie XL Car Mount</td>\n",
       "      <td>0.0</td>\n",
       "      <td>0.000</td>\n",
       "      <td>224.0</td>\n",
       "      <td>-50.3748</td>\n",
       "      <td>0.000000</td>\n",
       "      <td>-0.224887</td>\n",
       "    </tr>\n",
       "    <tr>\n",
       "      <th>3623</th>\n",
       "      <td>invisibleSHIELD by ZAGG Smudge-Free Screen Pro...</td>\n",
       "      <td>0.0</td>\n",
       "      <td>0.000</td>\n",
       "      <td>442.0</td>\n",
       "      <td>171.2648</td>\n",
       "      <td>0.000000</td>\n",
       "      <td>0.387477</td>\n",
       "    </tr>\n",
       "    <tr>\n",
       "      <th>3624</th>\n",
       "      <td>netTALK DUO VoIP Telephone Service</td>\n",
       "      <td>0.0</td>\n",
       "      <td>0.000</td>\n",
       "      <td>1113.0</td>\n",
       "      <td>430.4180</td>\n",
       "      <td>0.000000</td>\n",
       "      <td>0.386719</td>\n",
       "    </tr>\n",
       "  </tbody>\n",
       "</table>\n",
       "<p>3625 rows × 7 columns</p>\n",
       "</div>"
      ],
      "text/plain": [
       "                                           product_name  Bundled_Sales  \\\n",
       "0                                Acme Trimmer, Serrated          186.0   \n",
       "1                                 Advantus Frame, Black          222.0   \n",
       "2                      Apple Office Telephone, Cordless          469.0   \n",
       "3                        Apple Signal Booster, Cordless          140.0   \n",
       "4                       Apple Signal Booster, Full Size          414.0   \n",
       "...                                                 ...            ...   \n",
       "3620  iKross Bluetooth Portable Keyboard + Cell Phon...            0.0   \n",
       "3621                         iOttie HLCRIO102 Car Mount            0.0   \n",
       "3622                                iOttie XL Car Mount            0.0   \n",
       "3623  invisibleSHIELD by ZAGG Smudge-Free Screen Pro...            0.0   \n",
       "3624                 netTALK DUO VoIP Telephone Service            0.0   \n",
       "\n",
       "      Bundled_Profit  Unbundled_Sales  Unbundled_Profit  \\\n",
       "0           -141.210           2154.0          122.1464   \n",
       "1             44.400           2792.0         -539.4940   \n",
       "2             80.937           4589.0         1926.4800   \n",
       "3             34.860           5503.0         -747.5400   \n",
       "4           -372.600           3431.0         -566.7420   \n",
       "...              ...              ...               ...   \n",
       "3620           0.000            479.0          115.6440   \n",
       "3621           0.000            216.0          -11.9940   \n",
       "3622           0.000            224.0          -50.3748   \n",
       "3623           0.000            442.0          171.2648   \n",
       "3624           0.000           1113.0          430.4180   \n",
       "\n",
       "      Bundled_Profit_Margin  Unbundled_Profit_Margin  \n",
       "0                 -0.759194                 0.056707  \n",
       "1                  0.200000                -0.193229  \n",
       "2                  0.172574                 0.419804  \n",
       "3                  0.249000                -0.135842  \n",
       "4                 -0.900000                -0.165183  \n",
       "...                     ...                      ...  \n",
       "3620               0.000000                 0.241428  \n",
       "3621               0.000000                -0.055528  \n",
       "3622               0.000000                -0.224887  \n",
       "3623               0.000000                 0.387477  \n",
       "3624               0.000000                 0.386719  \n",
       "\n",
       "[3625 rows x 7 columns]"
      ]
     },
     "execution_count": 38,
     "metadata": {},
     "output_type": "execute_result"
    }
   ],
   "source": [
    "# Calculate profits and sales for products in bundled transactions\n",
    "bundled_product_summary = bundling_transactions.groupby('product_name').agg(\n",
    "    Bundled_Sales=('sales', 'sum'),\n",
    "    Bundled_Profit=('profit', 'sum')\n",
    ").reset_index()\n",
    "\n",
    "# Identify unbundled transactions (standalone transactions)\n",
    "unbundled_transactions = df_cleaned[~df_cleaned['order_id'].isin(bundling_transactions['order_id'])]\n",
    "\n",
    "# Calculate profits and sales for products in unbundled transactions\n",
    "unbundled_product_summary = unbundled_transactions.groupby('product_name').agg(\n",
    "    Unbundled_Sales=('sales', 'sum'),\n",
    "    Unbundled_Profit=('profit', 'sum')\n",
    ").reset_index()\n",
    "\n",
    "# Merge the two summaries to create a single DataFrame\n",
    "product_summary = pd.merge(\n",
    "    bundled_product_summary,\n",
    "    unbundled_product_summary,\n",
    "    on='product_name',\n",
    "    how='outer'\n",
    ").fillna(0)  # Fill NaN values with 0 for products not present in either category\n",
    "\n",
    "\n",
    "# Calculate Bundled Profit Margin\n",
    "product_summary['Bundled_Profit_Margin'] = (\n",
    "    product_summary['Bundled_Profit'] / product_summary['Bundled_Sales']\n",
    ").fillna(0)\n",
    "\n",
    "# Calculate Unbundled Profit Margin\n",
    "product_summary['Unbundled_Profit_Margin'] = (\n",
    "    product_summary['Unbundled_Profit'] / product_summary['Unbundled_Sales']\n",
    ").fillna(0)\n",
    "\n",
    "# Display DataFrame\n",
    "product_summary"
   ]
  },
  {
   "cell_type": "code",
   "execution_count": 39,
   "metadata": {},
   "outputs": [],
   "source": [
    "# Save the result to a CSV file (optional)\n",
    "product_summary.to_csv('product_summary.csv', index=False)"
   ]
  },
  {
   "cell_type": "markdown",
   "metadata": {},
   "source": [
    "### Bundled Orders Profitability"
   ]
  },
  {
   "cell_type": "code",
   "execution_count": 29,
   "metadata": {
    "scrolled": false
   },
   "outputs": [
    {
     "data": {
      "image/png": "[encoded data removed]",
      "text/plain": [
       "<Figure size 720x432 with 1 Axes>"
      ]
     },
     "metadata": {
      "needs_background": "light"
     },
     "output_type": "display_data"
    }
   ],
   "source": [
    "# Aggregate sales, profit, and discount for general bundling transactions\n",
    "general_bundling_summary = df_cleaned.groupby('order_id').agg({\n",
    "    'sales': 'sum',\n",
    "    'profit': 'sum',\n",
    "    'discount': 'mean'\n",
    "}).rename(columns={\n",
    "    'sales': 'Bundling Total Sales',\n",
    "    'profit': 'Bundling Total Profit',\n",
    "    'discount': 'Average Discount'\n",
    "}).reset_index()\n",
    "\n",
    "# Filtering orders with at least 2 products\n",
    "general_bundling_summary['Product Count'] = bundling_transactions.groupby('order_id')['product_name'].transform('nunique')\n",
    "filtered_bundling_summary = general_bundling_summary[general_bundling_summary['Product Count'] >= 2]\n",
    "\n",
    "# Sort the filtered bundling summary by profit\n",
    "sorted_bundling_summary = filtered_bundling_summary.sort_values(by='Bundling Total Profit', ascending=False)\n",
    "\n",
    "# Plot the updated profitability of bundling transactions\n",
    "plt.figure(figsize=(10, 6))\n",
    "plt.bar(\n",
    "    sorted_bundling_summary['order_id'],\n",
    "    sorted_bundling_summary['Bundling Total Profit'],\n",
    "    color='#F07F09'\n",
    ")\n",
    "plt.title(\"Bundled Orders Profitability\")\n",
    "plt.xlabel(\"Order ID\")\n",
    "plt.ylabel(\"Profit\")\n",
    "plt.xticks(rotation=90, fontsize=8)\n",
    "plt.tight_layout()\n",
    "plt.show()\n"
   ]
  },
  {
   "cell_type": "markdown",
   "metadata": {},
   "source": [
    "### Observations\n",
    "- **Positive Profit Orders:**<br> \n",
    "    The bars on the left are bundled orders where the revenue exceeds the associated costs and discounts.\n",
    "- **Negative Profit Orders:**<br>\n",
    "    The bars on the right represent orders with negative profitability. These are likely due to high discounts or costs exceeding revenue.\n",
    "- **Insights:**<br> \n",
    "    Negative-profit orders may need attention to understand why they are unprofitable—perhaps discounts are too high, or bundling is applied inefficiently."
   ]
  },
  {
   "cell_type": "markdown",
   "metadata": {},
   "source": [
    "###  Bundling vs Non-Bundling Profitability Comparison"
   ]
  },
  {
   "cell_type": "code",
   "execution_count": 30,
   "metadata": {
    "scrolled": true
   },
   "outputs": [
    {
     "name": "stdout",
     "output_type": "stream",
     "text": [
      "Bundling vs Non-Bundling Profitability Comparison\n",
      "==================================================\n"
     ]
    },
    {
     "data": {
      "text/html": [
       "<div>\n",
       "<style scoped>\n",
       "    .dataframe tbody tr th:only-of-type {\n",
       "        vertical-align: middle;\n",
       "    }\n",
       "\n",
       "    .dataframe tbody tr th {\n",
       "        vertical-align: top;\n",
       "    }\n",
       "\n",
       "    .dataframe thead th {\n",
       "        text-align: right;\n",
       "    }\n",
       "</style>\n",
       "<table border=\"1\" class=\"dataframe\">\n",
       "  <thead>\n",
       "    <tr style=\"text-align: right;\">\n",
       "      <th></th>\n",
       "      <th>0</th>\n",
       "      <th>1</th>\n",
       "    </tr>\n",
       "  </thead>\n",
       "  <tbody>\n",
       "    <tr>\n",
       "      <th>Bundling Total Sales</th>\n",
       "      <td>27929.000000</td>\n",
       "      <td>NaN</td>\n",
       "    </tr>\n",
       "    <tr>\n",
       "      <th>Bundling Total Profit</th>\n",
       "      <td>1163.134800</td>\n",
       "      <td>NaN</td>\n",
       "    </tr>\n",
       "    <tr>\n",
       "      <th>Profit Margin (%)</th>\n",
       "      <td>4.164613</td>\n",
       "      <td>-3.289304e+00</td>\n",
       "    </tr>\n",
       "    <tr>\n",
       "      <th>Non-Bundling Total Sales</th>\n",
       "      <td>NaN</td>\n",
       "      <td>1.407253e+06</td>\n",
       "    </tr>\n",
       "    <tr>\n",
       "      <th>Non-Bundling Total Profit</th>\n",
       "      <td>NaN</td>\n",
       "      <td>-4.628883e+04</td>\n",
       "    </tr>\n",
       "  </tbody>\n",
       "</table>\n",
       "</div>"
      ],
      "text/plain": [
       "                                      0             1\n",
       "Bundling Total Sales       27929.000000           NaN\n",
       "Bundling Total Profit       1163.134800           NaN\n",
       "Profit Margin (%)              4.164613 -3.289304e+00\n",
       "Non-Bundling Total Sales            NaN  1.407253e+06\n",
       "Non-Bundling Total Profit           NaN -4.628883e+04"
      ]
     },
     "execution_count": 30,
     "metadata": {},
     "output_type": "execute_result"
    }
   ],
   "source": [
    "# Step 1: Identify remaining transactions with only high-sales, low-profit products\n",
    "remaining_transactions = df_cleaned[\n",
    "    (df_cleaned['order_id'].isin(orders_with_low_profit['order_id'])) &  # Orders with low-profit products\n",
    "    (~df_cleaned['order_id'].isin(bundling_transactions['order_id']))   # Exclude bundled orders\n",
    "]\n",
    "\n",
    "# Step 2: Aggregate profitability metrics for each subset\n",
    "# Aggregation for bundling_transactions\n",
    "bundling_profitability = bundling_transactions.agg({\n",
    "    'sales': 'sum',\n",
    "    'profit': 'sum'\n",
    "}).rename({'sales': 'Bundling Total Sales', 'profit': 'Bundling Total Profit'})\n",
    "\n",
    "# Aggregation for remaining_transactions\n",
    "remaining_profitability = remaining_transactions.agg({\n",
    "    'sales': 'sum',\n",
    "    'profit': 'sum'\n",
    "}).rename({'sales': 'Non-Bundling Total Sales', 'profit': 'Non-Bundling Total Profit'})\n",
    "\n",
    "# Step 3: Add Profit Margins\n",
    "bundling_profitability['Profit Margin (%)'] = (bundling_profitability['Bundling Total Profit'] / \n",
    "                                               bundling_profitability['Bundling Total Sales']) * 100\n",
    "\n",
    "remaining_profitability['Profit Margin (%)'] = (remaining_profitability['Non-Bundling Total Profit'] / \n",
    "                                                remaining_profitability['Non-Bundling Total Sales']) * 100\n",
    "\n",
    "# Step 4: Combine Results for Comparison\n",
    "comparison = pd.concat([bundling_profitability, remaining_profitability], axis=1)\n",
    "\n",
    "# Display Bundling Transactions\n",
    "print('Bundling vs Non-Bundling Profitability Comparison')\n",
    "print('='*50)\n",
    "comparison"
   ]
  },
  {
   "cell_type": "markdown",
   "metadata": {},
   "source": [
    "### Insights\n",
    "\n",
    "The results of the comparison between bundling transactions and non-bundling transactions reveal key insights:\n",
    "- **Bundling Transactions**:<br>\n",
    "    - Total Sales: 27,929.00\n",
    "    - Total Profit: 1,163.13\n",
    "    - Profit Margin: ~4.16%:<br>\n",
    "- **Non-Bundling Transactions**:<br>\n",
    "    - Total Sales: 1,407,525.00\n",
    "    - Total Profit: -46,288.83 (negative profit)\n",
    "    - Profit Margin: -3.29%\n",
    "- **Interpretation**<br>    \n",
    "    - Bundling high-sales, low-profit products with high-profit products has a clear positive impact on profitability, turning a negative profit margin into a positive one.\n",
    "    - Although the sales volume is much lower in bundled transactions compared to non-bundling transactions, the profit margin improves significantly. This indicates that bundling strategically boosts profitability for high-sales, low-profit products."
   ]
  },
  {
   "cell_type": "markdown",
   "metadata": {},
   "source": [
    "### Bundling Opportunities Recommendations"
   ]
  },
  {
   "cell_type": "code",
   "execution_count": 31,
   "metadata": {},
   "outputs": [
    {
     "name": "stdout",
     "output_type": "stream",
     "text": [
      "High-Impact Product Contributions\n",
      "==================================================\n"
     ]
    },
    {
     "data": {
      "text/html": [
       "<div>\n",
       "<style scoped>\n",
       "    .dataframe tbody tr th:only-of-type {\n",
       "        vertical-align: middle;\n",
       "    }\n",
       "\n",
       "    .dataframe tbody tr th {\n",
       "        vertical-align: top;\n",
       "    }\n",
       "\n",
       "    .dataframe thead th {\n",
       "        text-align: right;\n",
       "    }\n",
       "</style>\n",
       "<table border=\"1\" class=\"dataframe\">\n",
       "  <thead>\n",
       "    <tr style=\"text-align: right;\">\n",
       "      <th></th>\n",
       "      <th>total_sales</th>\n",
       "      <th>total_profit</th>\n",
       "      <th>average_discount</th>\n",
       "    </tr>\n",
       "    <tr>\n",
       "      <th>product_name</th>\n",
       "      <th></th>\n",
       "      <th></th>\n",
       "      <th></th>\n",
       "    </tr>\n",
       "  </thead>\n",
       "  <tbody>\n",
       "    <tr>\n",
       "      <th>Cardinal Binding Machine, Clear</th>\n",
       "      <td>1966.0</td>\n",
       "      <td>750.6054</td>\n",
       "      <td>0.062667</td>\n",
       "    </tr>\n",
       "    <tr>\n",
       "      <th>Boston Sketch Pad, Blue</th>\n",
       "      <td>1772.0</td>\n",
       "      <td>609.6600</td>\n",
       "      <td>0.108333</td>\n",
       "    </tr>\n",
       "    <tr>\n",
       "      <th>Tenex Trays, Wire Frame</th>\n",
       "      <td>1289.0</td>\n",
       "      <td>578.0460</td>\n",
       "      <td>0.114286</td>\n",
       "    </tr>\n",
       "    <tr>\n",
       "      <th>Fellowes Lockers, Wire Frame</th>\n",
       "      <td>2145.0</td>\n",
       "      <td>532.4100</td>\n",
       "      <td>0.106250</td>\n",
       "    </tr>\n",
       "    <tr>\n",
       "      <th>Sanford Pencil Sharpener, Easy-Erase</th>\n",
       "      <td>1134.0</td>\n",
       "      <td>462.6420</td>\n",
       "      <td>0.150000</td>\n",
       "    </tr>\n",
       "  </tbody>\n",
       "</table>\n",
       "</div>"
      ],
      "text/plain": [
       "                                      total_sales  total_profit  \\\n",
       "product_name                                                      \n",
       "Cardinal Binding Machine, Clear            1966.0      750.6054   \n",
       "Boston Sketch Pad, Blue                    1772.0      609.6600   \n",
       "Tenex Trays, Wire Frame                    1289.0      578.0460   \n",
       "Fellowes Lockers, Wire Frame               2145.0      532.4100   \n",
       "Sanford Pencil Sharpener, Easy-Erase       1134.0      462.6420   \n",
       "\n",
       "                                      average_discount  \n",
       "product_name                                            \n",
       "Cardinal Binding Machine, Clear               0.062667  \n",
       "Boston Sketch Pad, Blue                       0.108333  \n",
       "Tenex Trays, Wire Frame                       0.114286  \n",
       "Fellowes Lockers, Wire Frame                  0.106250  \n",
       "Sanford Pencil Sharpener, Easy-Erase          0.150000  "
      ]
     },
     "execution_count": 31,
     "metadata": {},
     "output_type": "execute_result"
    }
   ],
   "source": [
    "# Calculate the contribution of each high-profit product in the bundled transactions\n",
    "high_profit_product_impact = bundling_transactions[bundling_transactions['product_name'].isin(high_profit_products['product_name'].tolist())]\n",
    "\n",
    "# Aggregate total profit for each high-profit product within bundled transactions\n",
    "product_impact_analysis = high_profit_product_impact.groupby('product_name').agg(\n",
    "    total_sales=('sales', 'sum'),\n",
    "    total_profit=('profit', 'sum'),\n",
    "    average_discount=('discount', 'mean')\n",
    ").sort_values(by='total_profit', ascending=False)\n",
    "\n",
    "# Extract the top 3 high-profit products with the most impact\n",
    "top_5_high_profit_products = product_impact_analysis.head(5)\n",
    "\n",
    "# High-Profit Product Impact Analysis\n",
    "print('High-Impact Product Contributions')\n",
    "print('='*50)\n",
    "top_5_high_profit_products"
   ]
  },
  {
   "cell_type": "code",
   "execution_count": 32,
   "metadata": {},
   "outputs": [
    {
     "data": {
      "image/png": "[encoded data removed]",
      "text/plain": [
       "<Figure size 864x432 with 1 Axes>"
      ]
     },
     "metadata": {
      "needs_background": "light"
     },
     "output_type": "display_data"
    }
   ],
   "source": [
    "# Bar Chart for Top High-Profit Products\n",
    "plt.figure(figsize=(12, 6))\n",
    "product_impact_analysis['total_profit'].sort_values(ascending=False).head(5).plot(\n",
    "    kind='bar', color='#F07F09'\n",
    ")\n",
    "plt.title('Top 5 High-Profit Product Contributions')\n",
    "plt.xlabel('Product Name')\n",
    "plt.ylabel('Total Profit')\n",
    "plt.xticks(rotation=45, ha='right')\n",
    "plt.grid(alpha=0.3)\n",
    "plt.show()"
   ]
  },
  {
   "cell_type": "markdown",
   "metadata": {},
   "source": [
    "### Insights\n",
    "- **Top 3 Contributors in boosting bundled transactions.**\n",
    "    1. Cardinal Binding Machine, Clear: This product contributes the most to total profit with \\$750.60 in profit.\n",
    "    2. Boston Sketch Pad, Blue: This product generates a profit of \\$609.66.\n",
    "    3. Tenex Trays, Wire Frame: With a profit contribution of \\$578.046.\n",
    "- **Impactful Bundling:**\n",
    "    - These products exhibit a high total profit and are thus key drivers of profitability when bundled.\n",
    "    - Products like Cardinal Binding Machine and Boston Sketch Pad not only deliver high profitability but also moderate discounts (e.g., 6%–11%), making them attractive for strategic bundling.\n",
    "- **Bundling Strategy:**\n",
    "    - Including these products in bundles with low-profit, high-sales products can potentially improve the overall profitability of the transactions.\n",
    "    - Their relatively low discount percentages ensure they retain profitability while boosting the attractiveness of the bundles.\n",
    "- **Recommendations:**\n",
    "    - Focus on including Cardinal Binding Machine, Boston Sketch Pad, and Tenex Trays in bundles with low-profit, high-sales products to maximize the financial impact.\n",
    "    - Ensure that discounts for these products remain minimal while leveraging their high-profit margins to offset losses from low-profit products."
   ]
  },
  {
   "cell_type": "markdown",
   "metadata": {},
   "source": [
    "#### Preprocessing for data visualisation"
   ]
  },
  {
   "cell_type": "code",
   "execution_count": 40,
   "metadata": {},
   "outputs": [
    {
     "data": {
      "text/html": [
       "<div>\n",
       "<style scoped>\n",
       "    .dataframe tbody tr th:only-of-type {\n",
       "        vertical-align: middle;\n",
       "    }\n",
       "\n",
       "    .dataframe tbody tr th {\n",
       "        vertical-align: top;\n",
       "    }\n",
       "\n",
       "    .dataframe thead th {\n",
       "        text-align: right;\n",
       "    }\n",
       "</style>\n",
       "<table border=\"1\" class=\"dataframe\">\n",
       "  <thead>\n",
       "    <tr style=\"text-align: right;\">\n",
       "      <th></th>\n",
       "      <th>product_name</th>\n",
       "      <th>Bundled_Sales</th>\n",
       "      <th>Bundled_Profit</th>\n",
       "      <th>Unbundled_Sales</th>\n",
       "      <th>Unbundled_Profit</th>\n",
       "    </tr>\n",
       "  </thead>\n",
       "  <tbody>\n",
       "    <tr>\n",
       "      <th>0</th>\n",
       "      <td>\"While you Were Out\" Message Book, One Form pe...</td>\n",
       "      <td>16.0</td>\n",
       "      <td>7.0490</td>\n",
       "      <td>9.0</td>\n",
       "      <td>3.3390</td>\n",
       "    </tr>\n",
       "    <tr>\n",
       "      <th>1</th>\n",
       "      <td>#10 Gummed Flap White Envelopes, 100/Box</td>\n",
       "      <td>25.0</td>\n",
       "      <td>11.3988</td>\n",
       "      <td>17.0</td>\n",
       "      <td>5.3690</td>\n",
       "    </tr>\n",
       "    <tr>\n",
       "      <th>2</th>\n",
       "      <td>#10 Self-Seal White Envelopes</td>\n",
       "      <td>98.0</td>\n",
       "      <td>46.6889</td>\n",
       "      <td>11.0</td>\n",
       "      <td>5.4341</td>\n",
       "    </tr>\n",
       "    <tr>\n",
       "      <th>3</th>\n",
       "      <td>#10 White Business Envelopes,4 1/8 x 9 1/2</td>\n",
       "      <td>326.0</td>\n",
       "      <td>151.5289</td>\n",
       "      <td>163.0</td>\n",
       "      <td>71.6119</td>\n",
       "    </tr>\n",
       "    <tr>\n",
       "      <th>4</th>\n",
       "      <td>#10- 4 1/8\" x 9 1/2\" Recycled Envelopes</td>\n",
       "      <td>251.0</td>\n",
       "      <td>98.8494</td>\n",
       "      <td>34.0</td>\n",
       "      <td>16.4312</td>\n",
       "    </tr>\n",
       "    <tr>\n",
       "      <th>...</th>\n",
       "      <td>...</td>\n",
       "      <td>...</td>\n",
       "      <td>...</td>\n",
       "      <td>...</td>\n",
       "      <td>...</td>\n",
       "    </tr>\n",
       "    <tr>\n",
       "      <th>3621</th>\n",
       "      <td>Xerox 190</td>\n",
       "      <td>0.0</td>\n",
       "      <td>0.0000</td>\n",
       "      <td>30.0</td>\n",
       "      <td>14.0436</td>\n",
       "    </tr>\n",
       "    <tr>\n",
       "      <th>3622</th>\n",
       "      <td>Xerox 1902</td>\n",
       "      <td>0.0</td>\n",
       "      <td>0.0000</td>\n",
       "      <td>83.0</td>\n",
       "      <td>32.8896</td>\n",
       "    </tr>\n",
       "    <tr>\n",
       "      <th>3623</th>\n",
       "      <td>Xerox 1984</td>\n",
       "      <td>0.0</td>\n",
       "      <td>0.0000</td>\n",
       "      <td>13.0</td>\n",
       "      <td>6.3504</td>\n",
       "    </tr>\n",
       "    <tr>\n",
       "      <th>3624</th>\n",
       "      <td>Xerox 1989</td>\n",
       "      <td>0.0</td>\n",
       "      <td>0.0000</td>\n",
       "      <td>8.0</td>\n",
       "      <td>2.6892</td>\n",
       "    </tr>\n",
       "    <tr>\n",
       "      <th>3625</th>\n",
       "      <td>Xerox 1998</td>\n",
       "      <td>0.0</td>\n",
       "      <td>0.0000</td>\n",
       "      <td>46.0</td>\n",
       "      <td>16.3296</td>\n",
       "    </tr>\n",
       "  </tbody>\n",
       "</table>\n",
       "<p>3626 rows × 5 columns</p>\n",
       "</div>"
      ],
      "text/plain": [
       "                                           product_name  Bundled_Sales  \\\n",
       "0     \"While you Were Out\" Message Book, One Form pe...           16.0   \n",
       "1              #10 Gummed Flap White Envelopes, 100/Box           25.0   \n",
       "2                         #10 Self-Seal White Envelopes           98.0   \n",
       "3            #10 White Business Envelopes,4 1/8 x 9 1/2          326.0   \n",
       "4               #10- 4 1/8\" x 9 1/2\" Recycled Envelopes          251.0   \n",
       "...                                                 ...            ...   \n",
       "3621                                          Xerox 190            0.0   \n",
       "3622                                         Xerox 1902            0.0   \n",
       "3623                                         Xerox 1984            0.0   \n",
       "3624                                         Xerox 1989            0.0   \n",
       "3625                                         Xerox 1998            0.0   \n",
       "\n",
       "      Bundled_Profit  Unbundled_Sales  Unbundled_Profit  \n",
       "0             7.0490              9.0            3.3390  \n",
       "1            11.3988             17.0            5.3690  \n",
       "2            46.6889             11.0            5.4341  \n",
       "3           151.5289            163.0           71.6119  \n",
       "4            98.8494             34.0           16.4312  \n",
       "...              ...              ...               ...  \n",
       "3621          0.0000             30.0           14.0436  \n",
       "3622          0.0000             83.0           32.8896  \n",
       "3623          0.0000             13.0            6.3504  \n",
       "3624          0.0000              8.0            2.6892  \n",
       "3625          0.0000             46.0           16.3296  \n",
       "\n",
       "[3626 rows x 5 columns]"
      ]
     },
     "execution_count": 40,
     "metadata": {},
     "output_type": "execute_result"
    }
   ],
   "source": [
    "# Step 1: Identify bundled transactions (those with more than 1 product in an order)\n",
    "df_cleaned['Product Count'] = df_cleaned.groupby('order_id')['product_name'].transform('nunique')\n",
    "bundled_transactions = df_cleaned[df_cleaned['Product Count'] > 1]\n",
    "\n",
    "# Step 2: Calculate Bundled Sales and Bundled Profit for each product\n",
    "bundled_product_summary = bundled_transactions.groupby('product_name').agg(\n",
    "    Bundled_Sales=('sales', 'sum'),\n",
    "    Bundled_Profit=('profit', 'sum')\n",
    ").reset_index()\n",
    "\n",
    "# Step 3: Identify unbundled transactions (those with only 1 product in an order)\n",
    "unbundled_transactions = df_cleaned[df_cleaned['Product Count'] == 1]\n",
    "\n",
    "# Step 4: Calculate Unbundled Sales and Unbundled Profit for each product\n",
    "unbundled_product_summary = unbundled_transactions.groupby('product_name').agg(\n",
    "    Unbundled_Sales=('sales', 'sum'),\n",
    "    Unbundled_Profit=('profit', 'sum')\n",
    ").reset_index()\n",
    "\n",
    "# Step 5: Merge Bundled and Unbundled summaries\n",
    "product_summary = pd.merge(\n",
    "    bundled_product_summary,\n",
    "    unbundled_product_summary,\n",
    "    on='product_name',\n",
    "    how='outer'\n",
    ").fillna(0)  # Fill NaN values with 0 for products not present in either category\n",
    "\n",
    "product_summary"
   ]
  },
  {
   "cell_type": "markdown",
   "metadata": {},
   "source": [
    "# 8. <a id=\"summary_insights\">Summary Insights</a> <font size='3'>[[Table of contents🔝]](#index)]<font size>"
   ]
  },
  {
   "cell_type": "markdown",
   "metadata": {},
   "source": [
    "## 8.1. <a id=\"optimization_recommendations\">Optimization Recommendations</a> <font size='3'>[[Table of contents🔝]](#index)]<font size>"
   ]
  },
  {
   "cell_type": "markdown",
   "metadata": {},
   "source": [
    "- **Product Bundling**\n",
    "    - Prioritize bundling low-profit, high-sales products with the top 3 high-profit products (\"Cardinal Binding Machine, Clear\", \"Boston Sketch Pad, Blue\", and \"Tenex Trays, Wire Frame\").\n",
    "- **Discount Strategy**\n",
    "    - Focus on moderate discounts (10%-30%) for high-sales, low-profit products to balance sales growth and profitability.\n",
    "    - Limit or eliminate discounts for high-demand products with strong profit margins.\n",
    "- **Category-Level Focus**\n",
    "    - Expand inventory and marketing for high-profit categories like Office Supplies.\n",
    "    - Analyze and address inefficiencies in Furniture to improve its profit margins.\n",
    "- **Regional Optimization**\n",
    "    - Invest in marketing and operational improvements in high-potential regions like Central.\n",
    "    - Reassess strategies for low-profit regions (e.g., Canada, Southeast Asia) to minimize losses.\n",
    "- **A/B Testing**\n",
    "    - Test the impact of different discount levels and bundling strategies on profit and customer behavior.\n",
    "    - Measure customer response to bundled offerings involving high- and low-profit products"
   ]
  },
  {
   "cell_type": "markdown",
   "metadata": {},
   "source": [
    "# 9. <a id=\"a_b_testing\">A/B Testing</a> <font size='3'>[[Table of contents🔝]](#index)]<font size>"
   ]
  },
  {
   "cell_type": "markdown",
   "metadata": {},
   "source": [
    "## 9.1. <a id=\"test_1_discount_strategy_testing\">Test 1. Discount Strategy Testing</a> <font size='3'>[[Table of contents🔝]](#index)]<font size>"
   ]
  },
  {
   "cell_type": "markdown",
   "metadata": {},
   "source": [
    "- **Objective:** \n",
    "    - Validate the optimal discount range (10%-30%) for maximizing profitability.\n",
    "- **Null Hypothesis (H0):**\n",
    "    - There is no significant difference in the average profit per transaction between the two discount ranges (10%-20% vs. 20%-30%).\n",
    "        - $$ \\text{H}_0: \\mu_{1} = \\mu_{2} $$\n",
    "- **Alternative Hypothesis (H1):**\n",
    "    - There is a significant difference in the average profit per transaction between the two discount ranges.\n",
    "        - $$ \\text{H}_0: \\mu_{1} ≠ \\mu_{2} $$ \n",
    "- **Groups:**<br> \n",
    "    - Group A: Transactions with 10%-20% discounts.\n",
    "    - Group B: Transactions with 20%-30% discounts.\n",
    "- **Metrics:**<br> \n",
    "    - Average profit per transaction.\n",
    "- **User Segmentation:**<br> \n",
    "    - Geographical segmentation for localized discount impact.\n",
    "- **Experiment Duration:**<br> \n",
    "    - Minimum: 2-4 weeks (to account for purchasing cycle variations).\n",
    "- **Statistical Significance:**<br> \n",
    "    - Threshold (𝛼): 0.05\n",
    "    - Confidence interval: 95%."
   ]
  },
  {
   "cell_type": "markdown",
   "metadata": {},
   "source": [
    "### Calculating sample size\n",
    "\n",
    "- **General Assumptions**\n",
    "    - Significance Level (α): 0.05 (5%)\n",
    "    - Statistical Power (1−β): 0.8 (80%)\n",
    "    - Effect Size: Assumed medium (Cohen's d=0.5) unless adjusted based on past performance data.\n",
    "\n",
    "- Using **two-sample independent t-test** for testing differences in average profit per transaction"
   ]
  },
  {
   "cell_type": "code",
   "execution_count": 33,
   "metadata": {},
   "outputs": [
    {
     "name": "stdout",
     "output_type": "stream",
     "text": [
      "Sample size required per group - test 1:\n"
     ]
    },
    {
     "data": {
      "text/plain": [
       "64"
      ]
     },
     "execution_count": 33,
     "metadata": {},
     "output_type": "execute_result"
    }
   ],
   "source": [
    "# Import necessary libraries for sample size calculation\n",
    "from statsmodels.stats.power import TTestIndPower\n",
    "from math import ceil  # Import the ceil function for rounding up\n",
    "\n",
    "# Define known parameters\n",
    "alpha = 0.05  # significance level\n",
    "power = 0.8   # statistical power\n",
    "effect_size = 0.5  # medium effect size (Cohen's d)\n",
    "\n",
    "# Create an instance of the power analysis class\n",
    "analysis = TTestIndPower()\n",
    "\n",
    "# Calculate the sample size per group\n",
    "sample_size_per_group_test1 = analysis.solve_power(effect_size=effect_size, alpha=alpha, power=power, alternative='two-sided')\n",
    "\n",
    "# Round up to the nearest integer\n",
    "sample_size_per_group_test1 = ceil(sample_size_per_group_test1)\n",
    "\n",
    "\n",
    "print('Sample size required per group - test 1:')\n",
    "sample_size_per_group_test1"
   ]
  },
  {
   "cell_type": "markdown",
   "metadata": {},
   "source": [
    "## 9.2. <a id=\"test_2_product_bundling_strategies\">Test 2. Product Bundling Strategies</a> <font size='3'>[[Table of contents🔝]](#index)]<font size>"
   ]
  },
  {
   "cell_type": "markdown",
   "metadata": {},
   "source": [
    "- **Objective:**<br> \n",
    "    - Test the effectiveness of bundling high-sales low-profit products with high-profit products.\n",
    " - **Null Hypothesis (H0):**\n",
    "    - Bundling high-sales low-profit products with high-profit products does not result in a significant increase in the average profit per transaction compared to standalone products.\n",
    "        - $$ \\text{H}_0: \\mu_{bundle} = \\mu_{standalone} $$\n",
    "- **Alternative Hypothesis (H1):**\n",
    "    - Bundling high-sales low-profit products with high-profit products results in a significant increase in the average profit per transaction compared to standalone products.\n",
    "        - $$ \\text{H}_1: \\mu_{bundle} ≠ \\mu_{standalone} $$    \n",
    "- **Groups:**<br> \n",
    "    - Group A: Customers offered standalone high-sales low-profit products.\n",
    "    - Group B: Customers offered bundles (e.g., high-sales low-profit products + high-profit product).\n",
    "- **Metrics:**<br> \n",
    "    - Bundle profitability.\n",
    "    - Sales volume of bundled products.\n",
    "    - Profit margin per transaction.\n",
    "- **User Segmentation:**<br> \n",
    "    - By customer segment (e.g., Consumer, Corporate, Home Office).\n",
    "- **Experiment Duration:**<br> \n",
    "    - Minimum: 4-6 weeks (to capture sufficient transactions across segments).\n",
    "- **Statistical Significance:**<br> \n",
    "    - Threshold (𝛼): 0.05\n",
    "    - Confidence interval: 95%."
   ]
  },
  {
   "cell_type": "markdown",
   "metadata": {},
   "source": [
    "### Calculate sample size\n",
    "- **General Assumptions**\n",
    "    - Baseline average profit: 8.64\\$ (mean from dataset)\n",
    "    - Assumed improvement: +20%\n",
    "    - Standard deviation: ~58\\$ (STD from dataset)\n",
    "- Using **paired t-test** for revenue or profit per transaction comparison:    "
   ]
  },
  {
   "cell_type": "code",
   "execution_count": 36,
   "metadata": {},
   "outputs": [
    {
     "name": "stdout",
     "output_type": "stream",
     "text": [
      "Sample size required per group - test2:\n"
     ]
    },
    {
     "data": {
      "text/plain": [
       "17686"
      ]
     },
     "execution_count": 36,
     "metadata": {},
     "output_type": "execute_result"
    }
   ],
   "source": [
    "# Python code to calculate sample size for paired t-test based on provided parameters\n",
    "\n",
    "from math import ceil\n",
    "from statsmodels.stats.power import TTestIndPower\n",
    "\n",
    "# Define parameters\n",
    "alpha = 0.05  # Significance level\n",
    "power = 0.8   # Statistical power\n",
    "std_dev = 58  # Standard deviation (σ)\n",
    "improvement = 0.2  # Assumed improvement (20%)\n",
    "baseline_mean = 8.64  # Baseline average profit\n",
    "\n",
    "# Calculate effect size (mean difference / standard deviation)\n",
    "effect_size = (baseline_mean * improvement) / std_dev\n",
    "\n",
    "# Create instance for power analysis\n",
    "analysis = TTestIndPower()\n",
    "\n",
    "# Calculate the required sample size\n",
    "sample_size_per_group_test2 = analysis.solve_power(effect_size=effect_size, alpha=alpha, power=power, alternative='two-sided')\n",
    "\n",
    "# Round up to the nearest integer\n",
    "sample_size_per_group_test2 = ceil(sample_size_per_group_test2)\n",
    "\n",
    "print('Sample size required per group - test2:')\n",
    "sample_size_per_group_test2\n"
   ]
  },
  {
   "cell_type": "markdown",
   "metadata": {},
   "source": [
    "## 9.3. <a id=\"test_simulation\">Test simulation</a> <font size='3'>[[Table of contents🔝]](#index)]<font size>"
   ]
  },
  {
   "cell_type": "code",
   "execution_count": 34,
   "metadata": {},
   "outputs": [
    {
     "name": "stdout",
     "output_type": "stream",
     "text": [
      "Average profit per transaction (Group A): 16.062381598557707\n",
      "Average profit per transaction (Group B): -7.7392075668073215\n"
     ]
    }
   ],
   "source": [
    "from scipy.stats import ttest_ind\n",
    "\n",
    "# Load the dataset (replace 'data' with the actual DataFrame)\n",
    "df = df_cleaned\n",
    "\n",
    "# Filter the groups based on discount ranges\n",
    "group_a = df[(df['discount'] >= 0.10) & (df['discount'] <= 0.20)]\n",
    "group_b = df[(df['discount'] > 0.20) & (df['discount'] <= 0.30)]\n",
    "\n",
    "# Extract profit data for each group\n",
    "profit_a = group_a['profit']\n",
    "profit_b = group_b['profit']\n",
    "\n",
    "# Calculate average profit per transaction for both groups\n",
    "avg_profit_a = profit_a.mean()\n",
    "avg_profit_b = profit_b.mean()\n",
    "\n",
    "print(f\"Average profit per transaction (Group A): {avg_profit_a}\")\n",
    "print(f\"Average profit per transaction (Group B): {avg_profit_b}\")"
   ]
  },
  {
   "cell_type": "code",
   "execution_count": 35,
   "metadata": {},
   "outputs": [
    {
     "name": "stdout",
     "output_type": "stream",
     "text": [
      "T-statistic: 15.189191291507921\n",
      "P-value: 6.3314410426703986e-46\n",
      "Reject the null hypothesis: There is a significant difference between the groups.\n"
     ]
    }
   ],
   "source": [
    "# Perform a two-sample t-test\n",
    "t_stat, p_value = ttest_ind(profit_a, profit_b, equal_var=False)  # Assuming unequal variances\n",
    "\n",
    "print(f\"T-statistic: {t_stat}\")\n",
    "print(f\"P-value: {p_value}\")\n",
    "\n",
    "# Interpret the results\n",
    "alpha = 0.05\n",
    "if p_value <= alpha:\n",
    "    print(\"Reject the null hypothesis: There is a significant difference between the groups.\")\n",
    "else:\n",
    "    print(\"Fail to reject the null hypothesis: No significant difference between the groups.\")\n"
   ]
  },
  {
   "cell_type": "markdown",
   "metadata": {},
   "source": [
    "#### Observation\n",
    "- T-statistic: 15.19\n",
    "    - A large t-statistic indicates a substantial difference between the two groups.\n",
    "- P-value: 6.33×10−46 (essentially 0)  \n",
    "     - Since the p-value is much smaller than the significance level α=0.05), the result is statistically significant.\n",
    "\n",
    "#### Conclusion\n",
    "- **Reject the Null Hypothesis (HO):**<br> \n",
    "    There is a statistically significant difference in the average profit per transaction between the two discount ranges (10%-20% and 20%-30%).\n",
    "- **Implication:** \n",
    "    - Offering higher discounts (20%-30%) leads to significantly lower profitability, even resulting in losses. \n",
    "    - This suggests that the 10%-20% discount range is much more effective for maintaining profitability.\n",
    "- **Next Steps:**\n",
    "    - Focus on offering discounts in the 10%-20% range, as it is more profitable.\n",
    "    - Avoid or minimize discounts in the 20%-30% range unless other factors justify it (e.g., boosting sales volume or clearing inventory).\n",
    "    - Explore customer segments or product categories to see if the effect is consistent across different groups.\n",
    "    - Investigate the impact of higher discounts on sales volume to balance profit and revenue goals."
   ]
  },
  {
   "cell_type": "markdown",
   "metadata": {},
   "source": [
    "## 9.4. <a id=\"tests_inistructions\">Tests inistructions</a> <font size='3'>[[Table of contents🔝]](#index)]<font size>"
   ]
  },
  {
   "cell_type": "markdown",
   "metadata": {},
   "source": [
    "- **Set up**<br>\n",
    "    - Randomly assign users to the control or test group.\n",
    "    - Ensure equal representation across segments to avoid bias.\n",
    "- **Run**<br>    \n",
    "    - Deploy the test and ensure consistent experiences for users in each group.\n",
    "        - If testing discounts, make sure only Group B gets the adjusted price.\n",
    "- **Monitor and Collect Data**<br>    \n",
    "    - Continuously track the KPI for both groups.\n",
    "        - Use dashboards or analytics tools to record sales, profits, or customer interactions    \n",
    "- **Analyze Results**<br>\n",
    "    - Compare the performance of the two groups using statistical methods.\n",
    "        - Example (See test simulation above)  "
   ]
  }
 ],
 "metadata": {
  "kernelspec": {
   "display_name": "Python 3 (ipykernel)",
   "language": "python",
   "name": "python3"
  },
  "language_info": {
   "codemirror_mode": {
    "name": "ipython",
    "version": 3
   },
   "file_extension": ".py",
   "mimetype": "text/x-python",
   "name": "python",
   "nbconvert_exporter": "python",
   "pygments_lexer": "ipython3",
   "version": "3.9.7"
  }
 },
 "nbformat": 4,
 "nbformat_minor": 4
}
